{
 "metadata": {
  "language_info": {
   "codemirror_mode": {
    "name": "ipython",
    "version": 3
   },
   "file_extension": ".py",
   "mimetype": "text/x-python",
   "name": "python",
   "nbconvert_exporter": "python",
   "pygments_lexer": "ipython3",
   "version": "3.7.2-final"
  },
  "orig_nbformat": 2,
  "kernelspec": {
   "name": "python37264bited08919d8bf24c87afebe95039c23d89",
   "display_name": "Python 3.7.2 64-bit"
  }
 },
 "nbformat": 4,
 "nbformat_minor": 2,
 "cells": [
  {
   "cell_type": "code",
   "execution_count": 1,
   "metadata": {},
   "outputs": [],
   "source": [
    "from zipfile import ZipFile"
   ]
  },
  {
   "cell_type": "code",
   "execution_count": 2,
   "metadata": {
    "tags": []
   },
   "outputs": [
    {
     "output_type": "stream",
     "name": "stderr",
     "text": "Using TensorFlow backend.\n"
    }
   ],
   "source": [
    "import keras\n",
    "from keras.models import Sequential\n",
    "from keras.layers import Dense\n",
    "from keras.layers import Conv2D\n",
    "from keras.layers import MaxPooling2D\n",
    "from keras.layers import Flatten"
   ]
  },
  {
   "cell_type": "code",
   "execution_count": 3,
   "metadata": {},
   "outputs": [],
   "source": [
    "# Initialize Model\n",
    "cnn_model = Sequential()"
   ]
  },
  {
   "cell_type": "code",
   "execution_count": 4,
   "metadata": {},
   "outputs": [],
   "source": [
    "# Step-1 Convoluation Layer\n",
    "cnn_model.add(Conv2D(32,3,3,input_shape=(64,64,3),activation='relu'))"
   ]
  },
  {
   "cell_type": "code",
   "execution_count": 5,
   "metadata": {},
   "outputs": [],
   "source": [
    "# Step-2 Pooling (Max/Sum/Avg Polling)\n",
    "cnn_model.add(MaxPooling2D(pool_size=(2,2)))"
   ]
  },
  {
   "cell_type": "code",
   "execution_count": 6,
   "metadata": {},
   "outputs": [],
   "source": [
    "# Additional Convoluation Layer\n",
    "\n",
    "# Step-1 Convoluation Layer\n",
    "cnn_model.add(Conv2D(16,(3,3),activation='relu'))\n",
    "\n",
    "# Step-2 Pooling (Max/Sum/Avg Polling)\n",
    "cnn_model.add(MaxPooling2D(pool_size=(2,2)))"
   ]
  },
  {
   "cell_type": "code",
   "execution_count": 7,
   "metadata": {},
   "outputs": [],
   "source": [
    "# Step-3 Flattening\n",
    "cnn_model.add(Flatten())"
   ]
  },
  {
   "cell_type": "code",
   "execution_count": 8,
   "metadata": {},
   "outputs": [],
   "source": [
    "# Full Connections\n",
    "cnn_model.add(Dense(units=128,activation='relu'))\n",
    "cnn_model.add(Dense(units=1,activation='sigmoid'))"
   ]
  },
  {
   "cell_type": "code",
   "execution_count": 9,
   "metadata": {},
   "outputs": [],
   "source": [
    "# Compiling CNN\n",
    "cnn_model.compile(optimizer='adam',loss=\"binary_crossentropy\",metrics=['accuracy'])"
   ]
  },
  {
   "cell_type": "code",
   "execution_count": 10,
   "metadata": {
    "tags": []
   },
   "outputs": [
    {
     "output_type": "stream",
     "name": "stdout",
     "text": "Found 8000 images belonging to 2 classes.\nFound 2000 images belonging to 2 classes.\n"
    }
   ],
   "source": [
    "# Image Data Preprocessing\n",
    "from keras.preprocessing.image import ImageDataGenerator\n",
    "train_datagen = ImageDataGenerator(\n",
    "        rescale=1./255,\n",
    "        shear_range=0.2,\n",
    "        zoom_range=0.2,\n",
    "        horizontal_flip=True)\n",
    "test_datagen = ImageDataGenerator(rescale=1./255)\n",
    "train_generator = train_datagen.flow_from_directory(\n",
    "        './DataSet/dataset/training_set',\n",
    "        target_size=(64, 64),\n",
    "        batch_size=32,\n",
    "        class_mode='binary')\n",
    "test_generator = test_datagen.flow_from_directory(\n",
    "        './DataSet/dataset/test_set',\n",
    "        target_size=(64, 64),\n",
    "        batch_size=32,\n",
    "        class_mode='binary')"
   ]
  },
  {
   "cell_type": "code",
   "execution_count": 11,
   "metadata": {
    "tags": []
   },
   "outputs": [
    {
     "output_type": "stream",
     "name": "stdout",
     "text": "WARNING:tensorflow:From <ipython-input-11-7f68307dab08>:1: Model.fit_generator (from tensorflow.python.keras.engine.training) is deprecated and will be removed in a future version.\nInstructions for updating:\nPlease use Model.fit, which supports generators.\nEpoch 1/10\nWARNING:tensorflow:AutoGraph could not transform <function Model.make_train_function.<locals>.train_function at 0x0000029B584AF488> and will run it as-is.\nPlease report this to the TensorFlow team. When filing the bug, set the verbosity to 10 (on Linux, `export AUTOGRAPH_VERBOSITY=10`) and attach the full output.\nCause: 'arguments' object has no attribute 'posonlyargs'\nTo silence this warning, decorate the function with @tf.autograph.experimental.do_not_convert\nWARNING: AutoGraph could not transform <function Model.make_train_function.<locals>.train_function at 0x0000029B584AF488> and will run it as-is.\nPlease report this to the TensorFlow team. When filing the bug, set the verbosity to 10 (on Linux, `export AUTOGRAPH_VERBOSITY=10`) and attach the full output.\nCause: 'arguments' object has no attribute 'posonlyargs'\nTo silence this warning, decorate the function with @tf.autograph.experimental.do_not_convert\n 250/8000 [..............................] - ETA: 21:14 - loss: 0.6844 - accuracy: 0.5515WARNING:tensorflow:Your input ran out of data; interrupting training. Make sure that your dataset or generator can generate at least `steps_per_epoch * epochs` batches (in this case, 80000 batches). You may need to use the repeat() function when building your dataset.\nWARNING:tensorflow:AutoGraph could not transform <function Model.make_test_function.<locals>.test_function at 0x0000029B60448B70> and will run it as-is.\nPlease report this to the TensorFlow team. When filing the bug, set the verbosity to 10 (on Linux, `export AUTOGRAPH_VERBOSITY=10`) and attach the full output.\nCause: 'arguments' object has no attribute 'posonlyargs'\nTo silence this warning, decorate the function with @tf.autograph.experimental.do_not_convert\nWARNING: AutoGraph could not transform <function Model.make_test_function.<locals>.test_function at 0x0000029B60448B70> and will run it as-is.\nPlease report this to the TensorFlow team. When filing the bug, set the verbosity to 10 (on Linux, `export AUTOGRAPH_VERBOSITY=10`) and attach the full output.\nCause: 'arguments' object has no attribute 'posonlyargs'\nTo silence this warning, decorate the function with @tf.autograph.experimental.do_not_convert\nWARNING:tensorflow:Your input ran out of data; interrupting training. Make sure that your dataset or generator can generate at least `steps_per_epoch * epochs` batches (in this case, 2000 batches). You may need to use the repeat() function when building your dataset.\n 250/8000 [..............................] - 46s 186ms/step - loss: 0.6844 - accuracy: 0.5515 - val_loss: 0.6551 - val_accuracy: 0.6075\n"
    },
    {
     "output_type": "execute_result",
     "data": {
      "text/plain": "<tensorflow.python.keras.callbacks.History at 0x29b58491d68>"
     },
     "metadata": {},
     "execution_count": 11
    }
   ],
   "source": [
    "cnn_model.fit_generator(\n",
    "    train_generator,\n",
    "    steps_per_epoch=250,#8000 images = batch_size * steps\n",
    "    epochs=10,\n",
    "    validation_data=test_generator,\n",
    "    validation_steps =62#2000 images = batch_size * steps\n",
    "    )"
   ]
  },
  {
   "cell_type": "code",
   "execution_count": 12,
   "metadata": {
    "tags": []
   },
   "outputs": [
    {
     "output_type": "stream",
     "name": "stdout",
     "text": "Epoch 1/10\n250/250 [==============================] - ETA: 0s - loss: 0.6478 - accuracy: 0.6259WARNING:tensorflow:Your input ran out of data; interrupting training. Make sure that your dataset or generator can generate at least `steps_per_epoch * epochs` batches (in this case, 2000 batches). You may need to use the repeat() function when building your dataset.\n250/250 [==============================] - 40s 160ms/step - loss: 0.6478 - accuracy: 0.6259 - val_loss: 0.6398 - val_accuracy: 0.6510\nEpoch 2/10\n250/250 [==============================] - ETA: 0s - loss: 0.6117 - accuracy: 0.6697WARNING:tensorflow:Your input ran out of data; interrupting training. Make sure that your dataset or generator can generate at least `steps_per_epoch * epochs` batches (in this case, 2000 batches). You may need to use the repeat() function when building your dataset.\n250/250 [==============================] - 37s 149ms/step - loss: 0.6117 - accuracy: 0.6697 - val_loss: 0.6099 - val_accuracy: 0.6790\nEpoch 3/10\n250/250 [==============================] - ETA: 0s - loss: 0.5881 - accuracy: 0.6933WARNING:tensorflow:Your input ran out of data; interrupting training. Make sure that your dataset or generator can generate at least `steps_per_epoch * epochs` batches (in this case, 2000 batches). You may need to use the repeat() function when building your dataset.\n250/250 [==============================] - 36s 145ms/step - loss: 0.5881 - accuracy: 0.6933 - val_loss: 0.6100 - val_accuracy: 0.6685\nEpoch 4/10\n250/250 [==============================] - ETA: 0s - loss: 0.5729 - accuracy: 0.7029WARNING:tensorflow:Your input ran out of data; interrupting training. Make sure that your dataset or generator can generate at least `steps_per_epoch * epochs` batches (in this case, 2000 batches). You may need to use the repeat() function when building your dataset.\n250/250 [==============================] - 45s 179ms/step - loss: 0.5729 - accuracy: 0.7029 - val_loss: 0.5591 - val_accuracy: 0.7125\nEpoch 5/10\n250/250 [==============================] - ETA: 0s - loss: 0.5579 - accuracy: 0.7132WARNING:tensorflow:Your input ran out of data; interrupting training. Make sure that your dataset or generator can generate at least `steps_per_epoch * epochs` batches (in this case, 2000 batches). You may need to use the repeat() function when building your dataset.\n250/250 [==============================] - 40s 159ms/step - loss: 0.5579 - accuracy: 0.7132 - val_loss: 0.5533 - val_accuracy: 0.7305\nEpoch 6/10\n250/250 [==============================] - ETA: 0s - loss: 0.5378 - accuracy: 0.7295WARNING:tensorflow:Your input ran out of data; interrupting training. Make sure that your dataset or generator can generate at least `steps_per_epoch * epochs` batches (in this case, 2000 batches). You may need to use the repeat() function when building your dataset.\n250/250 [==============================] - 41s 163ms/step - loss: 0.5378 - accuracy: 0.7295 - val_loss: 0.5310 - val_accuracy: 0.7445\nEpoch 7/10\n250/250 [==============================] - ETA: 0s - loss: 0.5288 - accuracy: 0.7339WARNING:tensorflow:Your input ran out of data; interrupting training. Make sure that your dataset or generator can generate at least `steps_per_epoch * epochs` batches (in this case, 2000 batches). You may need to use the repeat() function when building your dataset.\n250/250 [==============================] - 42s 170ms/step - loss: 0.5288 - accuracy: 0.7339 - val_loss: 0.5325 - val_accuracy: 0.7470\nEpoch 8/10\n250/250 [==============================] - ETA: 0s - loss: 0.5160 - accuracy: 0.7424WARNING:tensorflow:Your input ran out of data; interrupting training. Make sure that your dataset or generator can generate at least `steps_per_epoch * epochs` batches (in this case, 2000 batches). You may need to use the repeat() function when building your dataset.\n250/250 [==============================] - 40s 161ms/step - loss: 0.5160 - accuracy: 0.7424 - val_loss: 0.5250 - val_accuracy: 0.7495\nEpoch 9/10\n250/250 [==============================] - ETA: 0s - loss: 0.5023 - accuracy: 0.7530WARNING:tensorflow:Your input ran out of data; interrupting training. Make sure that your dataset or generator can generate at least `steps_per_epoch * epochs` batches (in this case, 2000 batches). You may need to use the repeat() function when building your dataset.\n250/250 [==============================] - 44s 178ms/step - loss: 0.5023 - accuracy: 0.7530 - val_loss: 0.5247 - val_accuracy: 0.7505\nEpoch 10/10\n250/250 [==============================] - ETA: 0s - loss: 0.5002 - accuracy: 0.7531WARNING:tensorflow:Your input ran out of data; interrupting training. Make sure that your dataset or generator can generate at least `steps_per_epoch * epochs` batches (in this case, 2000 batches). You may need to use the repeat() function when building your dataset.\n250/250 [==============================] - 43s 171ms/step - loss: 0.5002 - accuracy: 0.7531 - val_loss: 0.5294 - val_accuracy: 0.7370\n"
    },
    {
     "output_type": "execute_result",
     "data": {
      "text/plain": "<tensorflow.python.keras.callbacks.History at 0x29b604def98>"
     },
     "metadata": {},
     "execution_count": 12
    }
   ],
   "source": [
    "cnn_model.fit_generator(\n",
    "    train_generator,\n",
    "    epochs=10,\n",
    "    validation_data=test_generator,validation_steps = 2000\n",
    "    )"
   ]
  },
  {
   "cell_type": "code",
   "execution_count": 25,
   "metadata": {
    "tags": []
   },
   "outputs": [],
   "source": [
    "from keras.preprocessing import image\n",
    "import numpy as np\n",
    "test_image =image.load_img('./DataSet/dataset/single_prediction/cat_or_dog_1.jpg',target_size=(64,64))\n",
    "test_image=image.img_to_array(test_image) \n",
    "test_image= np.expand_dims(test_image,axis=0)\n",
    "result = cnn_model.predict(test_image)\n"
   ]
  },
  {
   "cell_type": "code",
   "execution_count": 26,
   "metadata": {},
   "outputs": [
    {
     "output_type": "execute_result",
     "data": {
      "text/plain": "{'cats': 0, 'dogs': 1}"
     },
     "metadata": {},
     "execution_count": 26
    }
   ],
   "source": [
    "train_generator.class_indices"
   ]
  },
  {
   "cell_type": "code",
   "execution_count": 27,
   "metadata": {},
   "outputs": [
    {
     "output_type": "execute_result",
     "data": {
      "text/plain": "array([[1.]], dtype=float32)"
     },
     "metadata": {},
     "execution_count": 27
    }
   ],
   "source": [
    "result"
   ]
  },
  {
   "cell_type": "code",
   "execution_count": 28,
   "metadata": {
    "tags": []
   },
   "outputs": [
    {
     "output_type": "stream",
     "name": "stdout",
     "text": "dog\n"
    }
   ],
   "source": [
    "if result[0][0] == 1:\n",
    "  print('dog')\n",
    "else:\n",
    "  print('cat')"
   ]
  },
  {
   "cell_type": "code",
   "execution_count": 17,
   "metadata": {},
   "outputs": [],
   "source": [
    "# cnn_model.fit(\n",
    "#         train_generator.repeat(),\n",
    "#         steps_per_epoch=8000,\n",
    "#         epochs=10,\n",
    "#         validation_data=test_generator.repeat(),\n",
    "#         validation_steps = 2000)"
   ]
  },
  {
   "cell_type": "code",
   "execution_count": 18,
   "metadata": {
    "tags": []
   },
   "outputs": [
    {
     "output_type": "stream",
     "name": "stdout",
     "text": "Model: \"sequential\"\n_________________________________________________________________\nLayer (type)                 Output Shape              Param #   \n=================================================================\nconv2d (Conv2D)              (None, 21, 21, 32)        896       \n_________________________________________________________________\nmax_pooling2d (MaxPooling2D) (None, 10, 10, 32)        0         \n_________________________________________________________________\nconv2d_1 (Conv2D)            (None, 8, 8, 16)          4624      \n_________________________________________________________________\nmax_pooling2d_1 (MaxPooling2 (None, 4, 4, 16)          0         \n_________________________________________________________________\nflatten (Flatten)            (None, 256)               0         \n_________________________________________________________________\ndense (Dense)                (None, 128)               32896     \n_________________________________________________________________\ndense_1 (Dense)              (None, 1)                 129       \n=================================================================\nTotal params: 38,545\nTrainable params: 38,545\nNon-trainable params: 0\n_________________________________________________________________\n"
    }
   ],
   "source": [
    " cnn_model.summary()"
   ]
  },
  {
   "cell_type": "code",
   "execution_count": 19,
   "metadata": {},
   "outputs": [
    {
     "output_type": "execute_result",
     "data": {
      "text/plain": "[<tensorflow.python.keras.engine.input_layer.InputLayer at 0x29b4f4e8f28>,\n <tensorflow.python.keras.layers.convolutional.Conv2D at 0x29b5c6a1780>,\n <tensorflow.python.keras.layers.pooling.MaxPooling2D at 0x29b5c6a1f98>,\n <tensorflow.python.keras.layers.convolutional.Conv2D at 0x29b5c828908>,\n <tensorflow.python.keras.layers.pooling.MaxPooling2D at 0x29b5c828c50>,\n <tensorflow.python.keras.layers.core.Flatten at 0x29b5c83fcf8>,\n <tensorflow.python.keras.layers.core.Dense at 0x29b5c843438>,\n <tensorflow.python.keras.layers.core.Dense at 0x29b5c843518>]"
     },
     "metadata": {},
     "execution_count": 19
    }
   ],
   "source": [
    "cnn_model._layers"
   ]
  },
  {
   "cell_type": "code",
   "execution_count": 29,
   "metadata": {},
   "outputs": [
    {
     "output_type": "execute_result",
     "data": {
      "text/plain": "'2.4.2'"
     },
     "metadata": {},
     "execution_count": 29
    }
   ],
   "source": [
    "keras.__version__"
   ]
  },
  {
   "cell_type": "code",
   "execution_count": 33,
   "metadata": {
    "tags": []
   },
   "outputs": [
    {
     "output_type": "stream",
     "name": "stdout",
     "text": "WARNING:tensorflow:AutoGraph could not transform <function canonicalize_signatures.<locals>.signature_wrapper at 0x0000029B6485F2F0> and will run it as-is.\nPlease report this to the TensorFlow team. When filing the bug, set the verbosity to 10 (on Linux, `export AUTOGRAPH_VERBOSITY=10`) and attach the full output.\nCause: 'arguments' object has no attribute 'posonlyargs'\nTo silence this warning, decorate the function with @tf.autograph.experimental.do_not_convert\nWARNING: AutoGraph could not transform <function canonicalize_signatures.<locals>.signature_wrapper at 0x0000029B6485F2F0> and will run it as-is.\nPlease report this to the TensorFlow team. When filing the bug, set the verbosity to 10 (on Linux, `export AUTOGRAPH_VERBOSITY=10`) and attach the full output.\nCause: 'arguments' object has no attribute 'posonlyargs'\nTo silence this warning, decorate the function with @tf.autograph.experimental.do_not_convert\nINFO:tensorflow:Assets written to: model\\assets\n"
    }
   ],
   "source": [
    "cnn_model.save('model')\n"
   ]
  },
  {
   "cell_type": "code",
   "execution_count": 34,
   "metadata": {
    "tags": []
   },
   "outputs": [
    {
     "output_type": "stream",
     "name": "stdout",
     "text": "Saved model to disk\n"
    }
   ],
   "source": [
    "from keras.models import model_from_json\n",
    "# serialize model to JSON\n",
    "model_json = cnn_model.to_json()\n",
    "with open(\"model/model.json\", \"w\") as json_file:\n",
    "    json_file.write(model_json)\n",
    "# serialize weights to HDF5\n",
    "cnn_model.save_weights(\"model/model.h5\")\n",
    "print(\"Saved model to disk\")"
   ]
  },
  {
   "cell_type": "code",
   "execution_count": 2,
   "metadata": {},
   "outputs": [],
   "source": [
    "import keras"
   ]
  },
  {
   "cell_type": "code",
   "execution_count": 5,
   "metadata": {},
   "outputs": [],
   "source": [
    "load_model = keras.models.load_model(\"model\")"
   ]
  },
  {
   "cell_type": "code",
   "execution_count": 10,
   "metadata": {
    "tags": []
   },
   "outputs": [],
   "source": [
    "from keras.preprocessing import image\n",
    "import numpy as np\n",
    "test_image =image.load_img('./DataSet/dataset/single_prediction/cat_or_dog_2.jpg',target_size=(64,64))\n",
    "test_image=image.img_to_array(test_image) \n",
    "test_image= np.expand_dims(test_image,axis=0)\n",
    "result = load_model.predict(test_image)"
   ]
  },
  {
   "cell_type": "code",
   "execution_count": 11,
   "metadata": {},
   "outputs": [
    {
     "output_type": "execute_result",
     "data": {
      "text/plain": "array([[2.7981973e-32]], dtype=float32)"
     },
     "metadata": {},
     "execution_count": 11
    }
   ],
   "source": [
    "result"
   ]
  },
  {
   "cell_type": "code",
   "execution_count": null,
   "metadata": {},
   "outputs": [],
   "source": []
  }
 ]
}