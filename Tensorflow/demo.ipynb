{
 "cells": [
  {
   "cell_type": "code",
   "execution_count": 1,
   "metadata": {},
   "outputs": [],
   "source": [
    "# %tensorflow_version 2.x\n",
    "import tensorflow as tf\n"
   ]
  },
  {
   "cell_type": "code",
   "execution_count": 2,
   "metadata": {},
   "outputs": [
    {
     "output_type": "execute_result",
     "data": {
      "text/plain": "'2.3.0-dev20200515'"
     },
     "metadata": {},
     "execution_count": 2
    }
   ],
   "source": [
    "tf.compat.v1.disable_eager_execution()\n",
    "tf.__version__"
   ]
  },
  {
   "cell_type": "code",
   "execution_count": 3,
   "metadata": {
    "tags": []
   },
   "outputs": [
    {
     "output_type": "stream",
     "name": "stdout",
     "text": "Tensor(\"Const:0\", shape=(), dtype=string)\n"
    },
    {
     "output_type": "execute_result",
     "data": {
      "text/plain": "<tf.Tensor 'Const:0' shape=() dtype=string>"
     },
     "metadata": {},
     "execution_count": 3
    }
   ],
   "source": [
    "hello= tf.constant(\"Hello World!\")\n",
    "print(hello)\n",
    "hello"
   ]
  },
  {
   "cell_type": "code",
   "execution_count": 4,
   "metadata": {},
   "outputs": [],
   "source": [
    "with tf.compat.v1.Session() as session:\n",
    "    result = session.run(hello)"
   ]
  },
  {
   "cell_type": "code",
   "execution_count": 5,
   "metadata": {
    "tags": []
   },
   "outputs": [
    {
     "output_type": "stream",
     "name": "stdout",
     "text": "b'Hello World!'\n"
    }
   ],
   "source": [
    "print(result)"
   ]
  },
  {
   "cell_type": "code",
   "execution_count": 6,
   "metadata": {},
   "outputs": [],
   "source": [
    "const=tf.constant(10)\n",
    "matrix=tf.fill((5,5),10)\n",
    "zeros=tf.zeros((5,5))\n",
    "ones=tf.ones((5,5))"
   ]
  },
  {
   "cell_type": "code",
   "execution_count": 7,
   "metadata": {
    "tags": []
   },
   "outputs": [
    {
     "output_type": "stream",
     "name": "stdout",
     "text": "Tensor(\"Const_1:0\", shape=(), dtype=int32) Tensor(\"Fill:0\", shape=(5, 5), dtype=int32) Tensor(\"zeros:0\", shape=(5, 5), dtype=float32) Tensor(\"ones:0\", shape=(5, 5), dtype=float32)\n"
    }
   ],
   "source": [
    "print(const,matrix,zeros,ones)\n",
    "\n",
    "all_combine=[const,matrix,zeros,ones]"
   ]
  },
  {
   "cell_type": "code",
   "execution_count": 8,
   "metadata": {},
   "outputs": [],
   "source": [
    "session=tf.compat.v1.InteractiveSession()"
   ]
  },
  {
   "cell_type": "code",
   "execution_count": 9,
   "metadata": {
    "tags": []
   },
   "outputs": [
    {
     "output_type": "stream",
     "name": "stdout",
     "text": "Tensor(\"Const_1:0\", shape=(), dtype=int32)\n10\nTensor(\"Fill:0\", shape=(5, 5), dtype=int32)\n[[10 10 10 10 10]\n [10 10 10 10 10]\n [10 10 10 10 10]\n [10 10 10 10 10]\n [10 10 10 10 10]]\nTensor(\"zeros:0\", shape=(5, 5), dtype=float32)\n[[0. 0. 0. 0. 0.]\n [0. 0. 0. 0. 0.]\n [0. 0. 0. 0. 0.]\n [0. 0. 0. 0. 0.]\n [0. 0. 0. 0. 0.]]\nTensor(\"ones:0\", shape=(5, 5), dtype=float32)\n[[1. 1. 1. 1. 1.]\n [1. 1. 1. 1. 1.]\n [1. 1. 1. 1. 1.]\n [1. 1. 1. 1. 1.]\n [1. 1. 1. 1. 1.]]\n"
    }
   ],
   "source": [
    "for i in all_combine:\n",
    "    print(i)\n",
    "    print(session.run(i))"
   ]
  },
  {
   "cell_type": "code",
   "execution_count": 10,
   "metadata": {
    "tags": []
   },
   "outputs": [
    {
     "output_type": "stream",
     "name": "stdout",
     "text": "30\n"
    }
   ],
   "source": [
    "a=tf.constant(10)\n",
    "b=tf.constant(20)\n",
    "c = a + b\n",
    "print(session.run(c))"
   ]
  },
  {
   "cell_type": "code",
   "execution_count": 11,
   "metadata": {},
   "outputs": [
    {
     "output_type": "execute_result",
     "data": {
      "text/plain": "<tensorflow.python.framework.ops.Graph at 0x26bfb5f7278>"
     },
     "metadata": {},
     "execution_count": 11
    }
   ],
   "source": [
    "tf.compat.v1.get_default_graph()"
   ]
  },
  {
   "cell_type": "code",
   "execution_count": 12,
   "metadata": {},
   "outputs": [
    {
     "output_type": "execute_result",
     "data": {
      "text/plain": "<tensorflow.python.framework.ops.Graph at 0x26bfb5a6eb8>"
     },
     "metadata": {},
     "execution_count": 12
    }
   ],
   "source": [
    "graph= tf.Graph()\n",
    "graph"
   ]
  },
  {
   "cell_type": "code",
   "execution_count": 13,
   "metadata": {},
   "outputs": [],
   "source": [
    "mat1=tf.random_uniform_initializer((5,5),0,10)"
   ]
  },
  {
   "cell_type": "code",
   "execution_count": 17,
   "metadata": {},
   "outputs": [],
   "source": [
    "# var1 = tf.Variable(initial_value=mat1)"
   ]
  }
 ],
 "metadata": {
  "language_info": {
   "codemirror_mode": {
    "name": "ipython",
    "version": 3
   },
   "file_extension": ".py",
   "mimetype": "text/x-python",
   "name": "python",
   "nbconvert_exporter": "python",
   "pygments_lexer": "ipython3",
   "version": "3.7.2-final"
  },
  "orig_nbformat": 2,
  "kernelspec": {
   "name": "python37264bited08919d8bf24c87afebe95039c23d89",
   "display_name": "Python 3.7.2 64-bit"
  }
 },
 "nbformat": 4,
 "nbformat_minor": 2
}