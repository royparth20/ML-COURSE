{
  "nbformat": 4,
  "nbformat_minor": 0,
  "metadata": {
    "colab": {
      "name": "Copy of Cancer_Breast_ANN.ipynb",
      "provenance": [],
      "collapsed_sections": []
    },
    "kernelspec": {
      "name": "python37264bited08919d8bf24c87afebe95039c23d89",
      "display_name": "Python 3.7.2 64-bit"
    }
  },
  "cells": [
    {
      "cell_type": "code",
      "metadata": {
        "id": "z6SNIXIhd0ye",
        "colab_type": "code",
        "colab": {
          "base_uri": "https://localhost:8080/",
          "height": 396
        },
        "outputId": "a6ba6e0a-eba9-4db9-eb8b-115f416a644f"
      },
      "source": [
        "\n",
        "import pandas as pd\n",
        "import io\n",
        "data = pd.read_csv('Dataset/data.csv')\n",
        "data.head(10)"
      ],
      "execution_count": 1,
      "outputs": [
        {
          "output_type": "execute_result",
          "data": {
            "text/plain": "         id diagnosis  radius_mean  texture_mean  perimeter_mean  area_mean  \\\n0    842302         M        17.99         10.38          122.80     1001.0   \n1    842517         M        20.57         17.77          132.90     1326.0   \n2  84300903         M        19.69         21.25          130.00     1203.0   \n3  84348301         M        11.42         20.38           77.58      386.1   \n4  84358402         M        20.29         14.34          135.10     1297.0   \n5    843786         M        12.45         15.70           82.57      477.1   \n6    844359         M        18.25         19.98          119.60     1040.0   \n7  84458202         M        13.71         20.83           90.20      577.9   \n8    844981         M        13.00         21.82           87.50      519.8   \n9  84501001         M        12.46         24.04           83.97      475.9   \n\n   smoothness_mean  compactness_mean  concavity_mean  concave points_mean  \\\n0          0.11840           0.27760         0.30010              0.14710   \n1          0.08474           0.07864         0.08690              0.07017   \n2          0.10960           0.15990         0.19740              0.12790   \n3          0.14250           0.28390         0.24140              0.10520   \n4          0.10030           0.13280         0.19800              0.10430   \n5          0.12780           0.17000         0.15780              0.08089   \n6          0.09463           0.10900         0.11270              0.07400   \n7          0.11890           0.16450         0.09366              0.05985   \n8          0.12730           0.19320         0.18590              0.09353   \n9          0.11860           0.23960         0.22730              0.08543   \n\n   ...  texture_worst  perimeter_worst  area_worst  smoothness_worst  \\\n0  ...          17.33           184.60      2019.0            0.1622   \n1  ...          23.41           158.80      1956.0            0.1238   \n2  ...          25.53           152.50      1709.0            0.1444   \n3  ...          26.50            98.87       567.7            0.2098   \n4  ...          16.67           152.20      1575.0            0.1374   \n5  ...          23.75           103.40       741.6            0.1791   \n6  ...          27.66           153.20      1606.0            0.1442   \n7  ...          28.14           110.60       897.0            0.1654   \n8  ...          30.73           106.20       739.3            0.1703   \n9  ...          40.68            97.65       711.4            0.1853   \n\n   compactness_worst  concavity_worst  concave points_worst  symmetry_worst  \\\n0             0.6656           0.7119                0.2654          0.4601   \n1             0.1866           0.2416                0.1860          0.2750   \n2             0.4245           0.4504                0.2430          0.3613   \n3             0.8663           0.6869                0.2575          0.6638   \n4             0.2050           0.4000                0.1625          0.2364   \n5             0.5249           0.5355                0.1741          0.3985   \n6             0.2576           0.3784                0.1932          0.3063   \n7             0.3682           0.2678                0.1556          0.3196   \n8             0.5401           0.5390                0.2060          0.4378   \n9             1.0580           1.1050                0.2210          0.4366   \n\n   fractal_dimension_worst  Unnamed: 32  \n0                  0.11890          NaN  \n1                  0.08902          NaN  \n2                  0.08758          NaN  \n3                  0.17300          NaN  \n4                  0.07678          NaN  \n5                  0.12440          NaN  \n6                  0.08368          NaN  \n7                  0.11510          NaN  \n8                  0.10720          NaN  \n9                  0.20750          NaN  \n\n[10 rows x 33 columns]",
            "text/html": "<div>\n<style scoped>\n    .dataframe tbody tr th:only-of-type {\n        vertical-align: middle;\n    }\n\n    .dataframe tbody tr th {\n        vertical-align: top;\n    }\n\n    .dataframe thead th {\n        text-align: right;\n    }\n</style>\n<table border=\"1\" class=\"dataframe\">\n  <thead>\n    <tr style=\"text-align: right;\">\n      <th></th>\n      <th>id</th>\n      <th>diagnosis</th>\n      <th>radius_mean</th>\n      <th>texture_mean</th>\n      <th>perimeter_mean</th>\n      <th>area_mean</th>\n      <th>smoothness_mean</th>\n      <th>compactness_mean</th>\n      <th>concavity_mean</th>\n      <th>concave points_mean</th>\n      <th>...</th>\n      <th>texture_worst</th>\n      <th>perimeter_worst</th>\n      <th>area_worst</th>\n      <th>smoothness_worst</th>\n      <th>compactness_worst</th>\n      <th>concavity_worst</th>\n      <th>concave points_worst</th>\n      <th>symmetry_worst</th>\n      <th>fractal_dimension_worst</th>\n      <th>Unnamed: 32</th>\n    </tr>\n  </thead>\n  <tbody>\n    <tr>\n      <th>0</th>\n      <td>842302</td>\n      <td>M</td>\n      <td>17.99</td>\n      <td>10.38</td>\n      <td>122.80</td>\n      <td>1001.0</td>\n      <td>0.11840</td>\n      <td>0.27760</td>\n      <td>0.30010</td>\n      <td>0.14710</td>\n      <td>...</td>\n      <td>17.33</td>\n      <td>184.60</td>\n      <td>2019.0</td>\n      <td>0.1622</td>\n      <td>0.6656</td>\n      <td>0.7119</td>\n      <td>0.2654</td>\n      <td>0.4601</td>\n      <td>0.11890</td>\n      <td>NaN</td>\n    </tr>\n    <tr>\n      <th>1</th>\n      <td>842517</td>\n      <td>M</td>\n      <td>20.57</td>\n      <td>17.77</td>\n      <td>132.90</td>\n      <td>1326.0</td>\n      <td>0.08474</td>\n      <td>0.07864</td>\n      <td>0.08690</td>\n      <td>0.07017</td>\n      <td>...</td>\n      <td>23.41</td>\n      <td>158.80</td>\n      <td>1956.0</td>\n      <td>0.1238</td>\n      <td>0.1866</td>\n      <td>0.2416</td>\n      <td>0.1860</td>\n      <td>0.2750</td>\n      <td>0.08902</td>\n      <td>NaN</td>\n    </tr>\n    <tr>\n      <th>2</th>\n      <td>84300903</td>\n      <td>M</td>\n      <td>19.69</td>\n      <td>21.25</td>\n      <td>130.00</td>\n      <td>1203.0</td>\n      <td>0.10960</td>\n      <td>0.15990</td>\n      <td>0.19740</td>\n      <td>0.12790</td>\n      <td>...</td>\n      <td>25.53</td>\n      <td>152.50</td>\n      <td>1709.0</td>\n      <td>0.1444</td>\n      <td>0.4245</td>\n      <td>0.4504</td>\n      <td>0.2430</td>\n      <td>0.3613</td>\n      <td>0.08758</td>\n      <td>NaN</td>\n    </tr>\n    <tr>\n      <th>3</th>\n      <td>84348301</td>\n      <td>M</td>\n      <td>11.42</td>\n      <td>20.38</td>\n      <td>77.58</td>\n      <td>386.1</td>\n      <td>0.14250</td>\n      <td>0.28390</td>\n      <td>0.24140</td>\n      <td>0.10520</td>\n      <td>...</td>\n      <td>26.50</td>\n      <td>98.87</td>\n      <td>567.7</td>\n      <td>0.2098</td>\n      <td>0.8663</td>\n      <td>0.6869</td>\n      <td>0.2575</td>\n      <td>0.6638</td>\n      <td>0.17300</td>\n      <td>NaN</td>\n    </tr>\n    <tr>\n      <th>4</th>\n      <td>84358402</td>\n      <td>M</td>\n      <td>20.29</td>\n      <td>14.34</td>\n      <td>135.10</td>\n      <td>1297.0</td>\n      <td>0.10030</td>\n      <td>0.13280</td>\n      <td>0.19800</td>\n      <td>0.10430</td>\n      <td>...</td>\n      <td>16.67</td>\n      <td>152.20</td>\n      <td>1575.0</td>\n      <td>0.1374</td>\n      <td>0.2050</td>\n      <td>0.4000</td>\n      <td>0.1625</td>\n      <td>0.2364</td>\n      <td>0.07678</td>\n      <td>NaN</td>\n    </tr>\n    <tr>\n      <th>5</th>\n      <td>843786</td>\n      <td>M</td>\n      <td>12.45</td>\n      <td>15.70</td>\n      <td>82.57</td>\n      <td>477.1</td>\n      <td>0.12780</td>\n      <td>0.17000</td>\n      <td>0.15780</td>\n      <td>0.08089</td>\n      <td>...</td>\n      <td>23.75</td>\n      <td>103.40</td>\n      <td>741.6</td>\n      <td>0.1791</td>\n      <td>0.5249</td>\n      <td>0.5355</td>\n      <td>0.1741</td>\n      <td>0.3985</td>\n      <td>0.12440</td>\n      <td>NaN</td>\n    </tr>\n    <tr>\n      <th>6</th>\n      <td>844359</td>\n      <td>M</td>\n      <td>18.25</td>\n      <td>19.98</td>\n      <td>119.60</td>\n      <td>1040.0</td>\n      <td>0.09463</td>\n      <td>0.10900</td>\n      <td>0.11270</td>\n      <td>0.07400</td>\n      <td>...</td>\n      <td>27.66</td>\n      <td>153.20</td>\n      <td>1606.0</td>\n      <td>0.1442</td>\n      <td>0.2576</td>\n      <td>0.3784</td>\n      <td>0.1932</td>\n      <td>0.3063</td>\n      <td>0.08368</td>\n      <td>NaN</td>\n    </tr>\n    <tr>\n      <th>7</th>\n      <td>84458202</td>\n      <td>M</td>\n      <td>13.71</td>\n      <td>20.83</td>\n      <td>90.20</td>\n      <td>577.9</td>\n      <td>0.11890</td>\n      <td>0.16450</td>\n      <td>0.09366</td>\n      <td>0.05985</td>\n      <td>...</td>\n      <td>28.14</td>\n      <td>110.60</td>\n      <td>897.0</td>\n      <td>0.1654</td>\n      <td>0.3682</td>\n      <td>0.2678</td>\n      <td>0.1556</td>\n      <td>0.3196</td>\n      <td>0.11510</td>\n      <td>NaN</td>\n    </tr>\n    <tr>\n      <th>8</th>\n      <td>844981</td>\n      <td>M</td>\n      <td>13.00</td>\n      <td>21.82</td>\n      <td>87.50</td>\n      <td>519.8</td>\n      <td>0.12730</td>\n      <td>0.19320</td>\n      <td>0.18590</td>\n      <td>0.09353</td>\n      <td>...</td>\n      <td>30.73</td>\n      <td>106.20</td>\n      <td>739.3</td>\n      <td>0.1703</td>\n      <td>0.5401</td>\n      <td>0.5390</td>\n      <td>0.2060</td>\n      <td>0.4378</td>\n      <td>0.10720</td>\n      <td>NaN</td>\n    </tr>\n    <tr>\n      <th>9</th>\n      <td>84501001</td>\n      <td>M</td>\n      <td>12.46</td>\n      <td>24.04</td>\n      <td>83.97</td>\n      <td>475.9</td>\n      <td>0.11860</td>\n      <td>0.23960</td>\n      <td>0.22730</td>\n      <td>0.08543</td>\n      <td>...</td>\n      <td>40.68</td>\n      <td>97.65</td>\n      <td>711.4</td>\n      <td>0.1853</td>\n      <td>1.0580</td>\n      <td>1.1050</td>\n      <td>0.2210</td>\n      <td>0.4366</td>\n      <td>0.20750</td>\n      <td>NaN</td>\n    </tr>\n  </tbody>\n</table>\n<p>10 rows × 33 columns</p>\n</div>"
          },
          "metadata": {},
          "execution_count": 1
        }
      ]
    },
    {
      "cell_type": "code",
      "metadata": {
        "id": "Fc7FKAffej-U",
        "colab_type": "code",
        "colab": {
          "base_uri": "https://localhost:8080/",
          "height": 384
        },
        "outputId": "c5ab9817-2e77-45ed-974f-358d5614a722",
        "tags": []
      },
      "source": [
        "import seaborn as sns\n",
        "ax =  sns.countplot(data['diagnosis'])\n",
        "print(data['diagnosis'].value_counts())"
      ],
      "execution_count": 2,
      "outputs": [
        {
          "output_type": "stream",
          "name": "stdout",
          "text": "B    357\nM    212\nName: diagnosis, dtype: int64\n"
        },
        {
          "output_type": "display_data",
          "data": {
            "text/plain": "<Figure size 432x288 with 1 Axes>",
            "image/svg+xml": "<?xml version=\"1.0\" encoding=\"utf-8\" standalone=\"no\"?>\r\n<!DOCTYPE svg PUBLIC \"-//W3C//DTD SVG 1.1//EN\"\r\n  \"http://www.w3.org/Graphics/SVG/1.1/DTD/svg11.dtd\">\r\n<!-- Created with matplotlib (https://matplotlib.org/) -->\r\n<svg height=\"262.19625pt\" version=\"1.1\" viewBox=\"0 0 388.965625 262.19625\" width=\"388.965625pt\" xmlns=\"http://www.w3.org/2000/svg\" xmlns:xlink=\"http://www.w3.org/1999/xlink\">\r\n <defs>\r\n  <style type=\"text/css\">\r\n*{stroke-linecap:butt;stroke-linejoin:round;}\r\n  </style>\r\n </defs>\r\n <g id=\"figure_1\">\r\n  <g id=\"patch_1\">\r\n   <path d=\"M -0 262.19625 \r\nL 388.965625 262.19625 \r\nL 388.965625 0 \r\nL -0 0 \r\nz\r\n\" style=\"fill:none;\"/>\r\n  </g>\r\n  <g id=\"axes_1\">\r\n   <g id=\"patch_2\">\r\n    <path d=\"M 46.965625 224.64 \r\nL 381.765625 224.64 \r\nL 381.765625 7.2 \r\nL 46.965625 7.2 \r\nz\r\n\" style=\"fill:#ffffff;\"/>\r\n   </g>\r\n   <g id=\"patch_3\">\r\n    <path clip-path=\"url(#pfc0d2b5ee9)\" d=\"M 63.705625 224.64 \r\nL 197.625625 224.64 \r\nL 197.625625 101.66473 \r\nL 63.705625 101.66473 \r\nz\r\n\" style=\"fill:#3274a1;\"/>\r\n   </g>\r\n   <g id=\"patch_4\">\r\n    <path clip-path=\"url(#pfc0d2b5ee9)\" d=\"M 231.105625 224.64 \r\nL 365.025625 224.64 \r\nL 365.025625 17.554286 \r\nL 231.105625 17.554286 \r\nz\r\n\" style=\"fill:#e1812c;\"/>\r\n   </g>\r\n   <g id=\"matplotlib.axis_1\">\r\n    <g id=\"xtick_1\">\r\n     <g id=\"line2d_1\">\r\n      <defs>\r\n       <path d=\"M 0 0 \r\nL 0 3.5 \r\n\" id=\"m4c79eed082\" style=\"stroke:#000000;stroke-width:0.8;\"/>\r\n      </defs>\r\n      <g>\r\n       <use style=\"stroke:#000000;stroke-width:0.8;\" x=\"130.665625\" xlink:href=\"#m4c79eed082\" y=\"224.64\"/>\r\n      </g>\r\n     </g>\r\n     <g id=\"text_1\">\r\n      <!-- M -->\r\n      <defs>\r\n       <path d=\"M 9.8125 72.90625 \r\nL 24.515625 72.90625 \r\nL 43.109375 23.296875 \r\nL 61.8125 72.90625 \r\nL 76.515625 72.90625 \r\nL 76.515625 0 \r\nL 66.890625 0 \r\nL 66.890625 64.015625 \r\nL 48.09375 14.015625 \r\nL 38.1875 14.015625 \r\nL 19.390625 64.015625 \r\nL 19.390625 0 \r\nL 9.8125 0 \r\nz\r\n\" id=\"DejaVuSans-77\"/>\r\n      </defs>\r\n      <g transform=\"translate(126.351562 239.238437)scale(0.1 -0.1)\">\r\n       <use xlink:href=\"#DejaVuSans-77\"/>\r\n      </g>\r\n     </g>\r\n    </g>\r\n    <g id=\"xtick_2\">\r\n     <g id=\"line2d_2\">\r\n      <g>\r\n       <use style=\"stroke:#000000;stroke-width:0.8;\" x=\"298.065625\" xlink:href=\"#m4c79eed082\" y=\"224.64\"/>\r\n      </g>\r\n     </g>\r\n     <g id=\"text_2\">\r\n      <!-- B -->\r\n      <defs>\r\n       <path d=\"M 19.671875 34.8125 \r\nL 19.671875 8.109375 \r\nL 35.5 8.109375 \r\nQ 43.453125 8.109375 47.28125 11.40625 \r\nQ 51.125 14.703125 51.125 21.484375 \r\nQ 51.125 28.328125 47.28125 31.5625 \r\nQ 43.453125 34.8125 35.5 34.8125 \r\nz\r\nM 19.671875 64.796875 \r\nL 19.671875 42.828125 \r\nL 34.28125 42.828125 \r\nQ 41.5 42.828125 45.03125 45.53125 \r\nQ 48.578125 48.25 48.578125 53.8125 \r\nQ 48.578125 59.328125 45.03125 62.0625 \r\nQ 41.5 64.796875 34.28125 64.796875 \r\nz\r\nM 9.8125 72.90625 \r\nL 35.015625 72.90625 \r\nQ 46.296875 72.90625 52.390625 68.21875 \r\nQ 58.5 63.53125 58.5 54.890625 \r\nQ 58.5 48.1875 55.375 44.234375 \r\nQ 52.25 40.28125 46.1875 39.3125 \r\nQ 53.46875 37.75 57.5 32.78125 \r\nQ 61.53125 27.828125 61.53125 20.40625 \r\nQ 61.53125 10.640625 54.890625 5.3125 \r\nQ 48.25 0 35.984375 0 \r\nL 9.8125 0 \r\nz\r\n\" id=\"DejaVuSans-66\"/>\r\n      </defs>\r\n      <g transform=\"translate(294.635156 239.238437)scale(0.1 -0.1)\">\r\n       <use xlink:href=\"#DejaVuSans-66\"/>\r\n      </g>\r\n     </g>\r\n    </g>\r\n    <g id=\"text_3\">\r\n     <!-- diagnosis -->\r\n     <defs>\r\n      <path d=\"M 45.40625 46.390625 \r\nL 45.40625 75.984375 \r\nL 54.390625 75.984375 \r\nL 54.390625 0 \r\nL 45.40625 0 \r\nL 45.40625 8.203125 \r\nQ 42.578125 3.328125 38.25 0.953125 \r\nQ 33.9375 -1.421875 27.875 -1.421875 \r\nQ 17.96875 -1.421875 11.734375 6.484375 \r\nQ 5.515625 14.40625 5.515625 27.296875 \r\nQ 5.515625 40.1875 11.734375 48.09375 \r\nQ 17.96875 56 27.875 56 \r\nQ 33.9375 56 38.25 53.625 \r\nQ 42.578125 51.265625 45.40625 46.390625 \r\nz\r\nM 14.796875 27.296875 \r\nQ 14.796875 17.390625 18.875 11.75 \r\nQ 22.953125 6.109375 30.078125 6.109375 \r\nQ 37.203125 6.109375 41.296875 11.75 \r\nQ 45.40625 17.390625 45.40625 27.296875 \r\nQ 45.40625 37.203125 41.296875 42.84375 \r\nQ 37.203125 48.484375 30.078125 48.484375 \r\nQ 22.953125 48.484375 18.875 42.84375 \r\nQ 14.796875 37.203125 14.796875 27.296875 \r\nz\r\n\" id=\"DejaVuSans-100\"/>\r\n      <path d=\"M 9.421875 54.6875 \r\nL 18.40625 54.6875 \r\nL 18.40625 0 \r\nL 9.421875 0 \r\nz\r\nM 9.421875 75.984375 \r\nL 18.40625 75.984375 \r\nL 18.40625 64.59375 \r\nL 9.421875 64.59375 \r\nz\r\n\" id=\"DejaVuSans-105\"/>\r\n      <path d=\"M 34.28125 27.484375 \r\nQ 23.390625 27.484375 19.1875 25 \r\nQ 14.984375 22.515625 14.984375 16.5 \r\nQ 14.984375 11.71875 18.140625 8.90625 \r\nQ 21.296875 6.109375 26.703125 6.109375 \r\nQ 34.1875 6.109375 38.703125 11.40625 \r\nQ 43.21875 16.703125 43.21875 25.484375 \r\nL 43.21875 27.484375 \r\nz\r\nM 52.203125 31.203125 \r\nL 52.203125 0 \r\nL 43.21875 0 \r\nL 43.21875 8.296875 \r\nQ 40.140625 3.328125 35.546875 0.953125 \r\nQ 30.953125 -1.421875 24.3125 -1.421875 \r\nQ 15.921875 -1.421875 10.953125 3.296875 \r\nQ 6 8.015625 6 15.921875 \r\nQ 6 25.140625 12.171875 29.828125 \r\nQ 18.359375 34.515625 30.609375 34.515625 \r\nL 43.21875 34.515625 \r\nL 43.21875 35.40625 \r\nQ 43.21875 41.609375 39.140625 45 \r\nQ 35.0625 48.390625 27.6875 48.390625 \r\nQ 23 48.390625 18.546875 47.265625 \r\nQ 14.109375 46.140625 10.015625 43.890625 \r\nL 10.015625 52.203125 \r\nQ 14.9375 54.109375 19.578125 55.046875 \r\nQ 24.21875 56 28.609375 56 \r\nQ 40.484375 56 46.34375 49.84375 \r\nQ 52.203125 43.703125 52.203125 31.203125 \r\nz\r\n\" id=\"DejaVuSans-97\"/>\r\n      <path d=\"M 45.40625 27.984375 \r\nQ 45.40625 37.75 41.375 43.109375 \r\nQ 37.359375 48.484375 30.078125 48.484375 \r\nQ 22.859375 48.484375 18.828125 43.109375 \r\nQ 14.796875 37.75 14.796875 27.984375 \r\nQ 14.796875 18.265625 18.828125 12.890625 \r\nQ 22.859375 7.515625 30.078125 7.515625 \r\nQ 37.359375 7.515625 41.375 12.890625 \r\nQ 45.40625 18.265625 45.40625 27.984375 \r\nz\r\nM 54.390625 6.78125 \r\nQ 54.390625 -7.171875 48.1875 -13.984375 \r\nQ 42 -20.796875 29.203125 -20.796875 \r\nQ 24.46875 -20.796875 20.265625 -20.09375 \r\nQ 16.0625 -19.390625 12.109375 -17.921875 \r\nL 12.109375 -9.1875 \r\nQ 16.0625 -11.328125 19.921875 -12.34375 \r\nQ 23.78125 -13.375 27.78125 -13.375 \r\nQ 36.625 -13.375 41.015625 -8.765625 \r\nQ 45.40625 -4.15625 45.40625 5.171875 \r\nL 45.40625 9.625 \r\nQ 42.625 4.78125 38.28125 2.390625 \r\nQ 33.9375 0 27.875 0 \r\nQ 17.828125 0 11.671875 7.65625 \r\nQ 5.515625 15.328125 5.515625 27.984375 \r\nQ 5.515625 40.671875 11.671875 48.328125 \r\nQ 17.828125 56 27.875 56 \r\nQ 33.9375 56 38.28125 53.609375 \r\nQ 42.625 51.21875 45.40625 46.390625 \r\nL 45.40625 54.6875 \r\nL 54.390625 54.6875 \r\nz\r\n\" id=\"DejaVuSans-103\"/>\r\n      <path d=\"M 54.890625 33.015625 \r\nL 54.890625 0 \r\nL 45.90625 0 \r\nL 45.90625 32.71875 \r\nQ 45.90625 40.484375 42.875 44.328125 \r\nQ 39.84375 48.1875 33.796875 48.1875 \r\nQ 26.515625 48.1875 22.3125 43.546875 \r\nQ 18.109375 38.921875 18.109375 30.90625 \r\nL 18.109375 0 \r\nL 9.078125 0 \r\nL 9.078125 54.6875 \r\nL 18.109375 54.6875 \r\nL 18.109375 46.1875 \r\nQ 21.34375 51.125 25.703125 53.5625 \r\nQ 30.078125 56 35.796875 56 \r\nQ 45.21875 56 50.046875 50.171875 \r\nQ 54.890625 44.34375 54.890625 33.015625 \r\nz\r\n\" id=\"DejaVuSans-110\"/>\r\n      <path d=\"M 30.609375 48.390625 \r\nQ 23.390625 48.390625 19.1875 42.75 \r\nQ 14.984375 37.109375 14.984375 27.296875 \r\nQ 14.984375 17.484375 19.15625 11.84375 \r\nQ 23.34375 6.203125 30.609375 6.203125 \r\nQ 37.796875 6.203125 41.984375 11.859375 \r\nQ 46.1875 17.53125 46.1875 27.296875 \r\nQ 46.1875 37.015625 41.984375 42.703125 \r\nQ 37.796875 48.390625 30.609375 48.390625 \r\nz\r\nM 30.609375 56 \r\nQ 42.328125 56 49.015625 48.375 \r\nQ 55.71875 40.765625 55.71875 27.296875 \r\nQ 55.71875 13.875 49.015625 6.21875 \r\nQ 42.328125 -1.421875 30.609375 -1.421875 \r\nQ 18.84375 -1.421875 12.171875 6.21875 \r\nQ 5.515625 13.875 5.515625 27.296875 \r\nQ 5.515625 40.765625 12.171875 48.375 \r\nQ 18.84375 56 30.609375 56 \r\nz\r\n\" id=\"DejaVuSans-111\"/>\r\n      <path d=\"M 44.28125 53.078125 \r\nL 44.28125 44.578125 \r\nQ 40.484375 46.53125 36.375 47.5 \r\nQ 32.28125 48.484375 27.875 48.484375 \r\nQ 21.1875 48.484375 17.84375 46.4375 \r\nQ 14.5 44.390625 14.5 40.28125 \r\nQ 14.5 37.15625 16.890625 35.375 \r\nQ 19.28125 33.59375 26.515625 31.984375 \r\nL 29.59375 31.296875 \r\nQ 39.15625 29.25 43.1875 25.515625 \r\nQ 47.21875 21.78125 47.21875 15.09375 \r\nQ 47.21875 7.46875 41.1875 3.015625 \r\nQ 35.15625 -1.421875 24.609375 -1.421875 \r\nQ 20.21875 -1.421875 15.453125 -0.5625 \r\nQ 10.6875 0.296875 5.421875 2 \r\nL 5.421875 11.28125 \r\nQ 10.40625 8.6875 15.234375 7.390625 \r\nQ 20.0625 6.109375 24.8125 6.109375 \r\nQ 31.15625 6.109375 34.5625 8.28125 \r\nQ 37.984375 10.453125 37.984375 14.40625 \r\nQ 37.984375 18.0625 35.515625 20.015625 \r\nQ 33.0625 21.96875 24.703125 23.78125 \r\nL 21.578125 24.515625 \r\nQ 13.234375 26.265625 9.515625 29.90625 \r\nQ 5.8125 33.546875 5.8125 39.890625 \r\nQ 5.8125 47.609375 11.28125 51.796875 \r\nQ 16.75 56 26.8125 56 \r\nQ 31.78125 56 36.171875 55.265625 \r\nQ 40.578125 54.546875 44.28125 53.078125 \r\nz\r\n\" id=\"DejaVuSans-115\"/>\r\n     </defs>\r\n     <g transform=\"translate(190.7375 252.916562)scale(0.1 -0.1)\">\r\n      <use xlink:href=\"#DejaVuSans-100\"/>\r\n      <use x=\"63.476562\" xlink:href=\"#DejaVuSans-105\"/>\r\n      <use x=\"91.259766\" xlink:href=\"#DejaVuSans-97\"/>\r\n      <use x=\"152.539062\" xlink:href=\"#DejaVuSans-103\"/>\r\n      <use x=\"216.015625\" xlink:href=\"#DejaVuSans-110\"/>\r\n      <use x=\"279.394531\" xlink:href=\"#DejaVuSans-111\"/>\r\n      <use x=\"340.576172\" xlink:href=\"#DejaVuSans-115\"/>\r\n      <use x=\"392.675781\" xlink:href=\"#DejaVuSans-105\"/>\r\n      <use x=\"420.458984\" xlink:href=\"#DejaVuSans-115\"/>\r\n     </g>\r\n    </g>\r\n   </g>\r\n   <g id=\"matplotlib.axis_2\">\r\n    <g id=\"ytick_1\">\r\n     <g id=\"line2d_3\">\r\n      <defs>\r\n       <path d=\"M 0 0 \r\nL -3.5 0 \r\n\" id=\"m6d6db619aa\" style=\"stroke:#000000;stroke-width:0.8;\"/>\r\n      </defs>\r\n      <g>\r\n       <use style=\"stroke:#000000;stroke-width:0.8;\" x=\"46.965625\" xlink:href=\"#m6d6db619aa\" y=\"224.64\"/>\r\n      </g>\r\n     </g>\r\n     <g id=\"text_4\">\r\n      <!-- 0 -->\r\n      <defs>\r\n       <path d=\"M 31.78125 66.40625 \r\nQ 24.171875 66.40625 20.328125 58.90625 \r\nQ 16.5 51.421875 16.5 36.375 \r\nQ 16.5 21.390625 20.328125 13.890625 \r\nQ 24.171875 6.390625 31.78125 6.390625 \r\nQ 39.453125 6.390625 43.28125 13.890625 \r\nQ 47.125 21.390625 47.125 36.375 \r\nQ 47.125 51.421875 43.28125 58.90625 \r\nQ 39.453125 66.40625 31.78125 66.40625 \r\nz\r\nM 31.78125 74.21875 \r\nQ 44.046875 74.21875 50.515625 64.515625 \r\nQ 56.984375 54.828125 56.984375 36.375 \r\nQ 56.984375 17.96875 50.515625 8.265625 \r\nQ 44.046875 -1.421875 31.78125 -1.421875 \r\nQ 19.53125 -1.421875 13.0625 8.265625 \r\nQ 6.59375 17.96875 6.59375 36.375 \r\nQ 6.59375 54.828125 13.0625 64.515625 \r\nQ 19.53125 74.21875 31.78125 74.21875 \r\nz\r\n\" id=\"DejaVuSans-48\"/>\r\n      </defs>\r\n      <g transform=\"translate(33.603125 228.439219)scale(0.1 -0.1)\">\r\n       <use xlink:href=\"#DejaVuSans-48\"/>\r\n      </g>\r\n     </g>\r\n    </g>\r\n    <g id=\"ytick_2\">\r\n     <g id=\"line2d_4\">\r\n      <g>\r\n       <use style=\"stroke:#000000;stroke-width:0.8;\" x=\"46.965625\" xlink:href=\"#m6d6db619aa\" y=\"195.636399\"/>\r\n      </g>\r\n     </g>\r\n     <g id=\"text_5\">\r\n      <!-- 50 -->\r\n      <defs>\r\n       <path d=\"M 10.796875 72.90625 \r\nL 49.515625 72.90625 \r\nL 49.515625 64.59375 \r\nL 19.828125 64.59375 \r\nL 19.828125 46.734375 \r\nQ 21.96875 47.46875 24.109375 47.828125 \r\nQ 26.265625 48.1875 28.421875 48.1875 \r\nQ 40.625 48.1875 47.75 41.5 \r\nQ 54.890625 34.8125 54.890625 23.390625 \r\nQ 54.890625 11.625 47.5625 5.09375 \r\nQ 40.234375 -1.421875 26.90625 -1.421875 \r\nQ 22.3125 -1.421875 17.546875 -0.640625 \r\nQ 12.796875 0.140625 7.71875 1.703125 \r\nL 7.71875 11.625 \r\nQ 12.109375 9.234375 16.796875 8.0625 \r\nQ 21.484375 6.890625 26.703125 6.890625 \r\nQ 35.15625 6.890625 40.078125 11.328125 \r\nQ 45.015625 15.765625 45.015625 23.390625 \r\nQ 45.015625 31 40.078125 35.4375 \r\nQ 35.15625 39.890625 26.703125 39.890625 \r\nQ 22.75 39.890625 18.8125 39.015625 \r\nQ 14.890625 38.140625 10.796875 36.28125 \r\nz\r\n\" id=\"DejaVuSans-53\"/>\r\n      </defs>\r\n      <g transform=\"translate(27.240625 199.435617)scale(0.1 -0.1)\">\r\n       <use xlink:href=\"#DejaVuSans-53\"/>\r\n       <use x=\"63.623047\" xlink:href=\"#DejaVuSans-48\"/>\r\n      </g>\r\n     </g>\r\n    </g>\r\n    <g id=\"ytick_3\">\r\n     <g id=\"line2d_5\">\r\n      <g>\r\n       <use style=\"stroke:#000000;stroke-width:0.8;\" x=\"46.965625\" xlink:href=\"#m6d6db619aa\" y=\"166.632797\"/>\r\n      </g>\r\n     </g>\r\n     <g id=\"text_6\">\r\n      <!-- 100 -->\r\n      <defs>\r\n       <path d=\"M 12.40625 8.296875 \r\nL 28.515625 8.296875 \r\nL 28.515625 63.921875 \r\nL 10.984375 60.40625 \r\nL 10.984375 69.390625 \r\nL 28.421875 72.90625 \r\nL 38.28125 72.90625 \r\nL 38.28125 8.296875 \r\nL 54.390625 8.296875 \r\nL 54.390625 0 \r\nL 12.40625 0 \r\nz\r\n\" id=\"DejaVuSans-49\"/>\r\n      </defs>\r\n      <g transform=\"translate(20.878125 170.432016)scale(0.1 -0.1)\">\r\n       <use xlink:href=\"#DejaVuSans-49\"/>\r\n       <use x=\"63.623047\" xlink:href=\"#DejaVuSans-48\"/>\r\n       <use x=\"127.246094\" xlink:href=\"#DejaVuSans-48\"/>\r\n      </g>\r\n     </g>\r\n    </g>\r\n    <g id=\"ytick_4\">\r\n     <g id=\"line2d_6\">\r\n      <g>\r\n       <use style=\"stroke:#000000;stroke-width:0.8;\" x=\"46.965625\" xlink:href=\"#m6d6db619aa\" y=\"137.629196\"/>\r\n      </g>\r\n     </g>\r\n     <g id=\"text_7\">\r\n      <!-- 150 -->\r\n      <g transform=\"translate(20.878125 141.428414)scale(0.1 -0.1)\">\r\n       <use xlink:href=\"#DejaVuSans-49\"/>\r\n       <use x=\"63.623047\" xlink:href=\"#DejaVuSans-53\"/>\r\n       <use x=\"127.246094\" xlink:href=\"#DejaVuSans-48\"/>\r\n      </g>\r\n     </g>\r\n    </g>\r\n    <g id=\"ytick_5\">\r\n     <g id=\"line2d_7\">\r\n      <g>\r\n       <use style=\"stroke:#000000;stroke-width:0.8;\" x=\"46.965625\" xlink:href=\"#m6d6db619aa\" y=\"108.625594\"/>\r\n      </g>\r\n     </g>\r\n     <g id=\"text_8\">\r\n      <!-- 200 -->\r\n      <defs>\r\n       <path d=\"M 19.1875 8.296875 \r\nL 53.609375 8.296875 \r\nL 53.609375 0 \r\nL 7.328125 0 \r\nL 7.328125 8.296875 \r\nQ 12.9375 14.109375 22.625 23.890625 \r\nQ 32.328125 33.6875 34.8125 36.53125 \r\nQ 39.546875 41.84375 41.421875 45.53125 \r\nQ 43.3125 49.21875 43.3125 52.78125 \r\nQ 43.3125 58.59375 39.234375 62.25 \r\nQ 35.15625 65.921875 28.609375 65.921875 \r\nQ 23.96875 65.921875 18.8125 64.3125 \r\nQ 13.671875 62.703125 7.8125 59.421875 \r\nL 7.8125 69.390625 \r\nQ 13.765625 71.78125 18.9375 73 \r\nQ 24.125 74.21875 28.421875 74.21875 \r\nQ 39.75 74.21875 46.484375 68.546875 \r\nQ 53.21875 62.890625 53.21875 53.421875 \r\nQ 53.21875 48.921875 51.53125 44.890625 \r\nQ 49.859375 40.875 45.40625 35.40625 \r\nQ 44.1875 33.984375 37.640625 27.21875 \r\nQ 31.109375 20.453125 19.1875 8.296875 \r\nz\r\n\" id=\"DejaVuSans-50\"/>\r\n      </defs>\r\n      <g transform=\"translate(20.878125 112.424813)scale(0.1 -0.1)\">\r\n       <use xlink:href=\"#DejaVuSans-50\"/>\r\n       <use x=\"63.623047\" xlink:href=\"#DejaVuSans-48\"/>\r\n       <use x=\"127.246094\" xlink:href=\"#DejaVuSans-48\"/>\r\n      </g>\r\n     </g>\r\n    </g>\r\n    <g id=\"ytick_6\">\r\n     <g id=\"line2d_8\">\r\n      <g>\r\n       <use style=\"stroke:#000000;stroke-width:0.8;\" x=\"46.965625\" xlink:href=\"#m6d6db619aa\" y=\"79.621993\"/>\r\n      </g>\r\n     </g>\r\n     <g id=\"text_9\">\r\n      <!-- 250 -->\r\n      <g transform=\"translate(20.878125 83.421212)scale(0.1 -0.1)\">\r\n       <use xlink:href=\"#DejaVuSans-50\"/>\r\n       <use x=\"63.623047\" xlink:href=\"#DejaVuSans-53\"/>\r\n       <use x=\"127.246094\" xlink:href=\"#DejaVuSans-48\"/>\r\n      </g>\r\n     </g>\r\n    </g>\r\n    <g id=\"ytick_7\">\r\n     <g id=\"line2d_9\">\r\n      <g>\r\n       <use style=\"stroke:#000000;stroke-width:0.8;\" x=\"46.965625\" xlink:href=\"#m6d6db619aa\" y=\"50.618391\"/>\r\n      </g>\r\n     </g>\r\n     <g id=\"text_10\">\r\n      <!-- 300 -->\r\n      <defs>\r\n       <path d=\"M 40.578125 39.3125 \r\nQ 47.65625 37.796875 51.625 33 \r\nQ 55.609375 28.21875 55.609375 21.1875 \r\nQ 55.609375 10.40625 48.1875 4.484375 \r\nQ 40.765625 -1.421875 27.09375 -1.421875 \r\nQ 22.515625 -1.421875 17.65625 -0.515625 \r\nQ 12.796875 0.390625 7.625 2.203125 \r\nL 7.625 11.71875 \r\nQ 11.71875 9.328125 16.59375 8.109375 \r\nQ 21.484375 6.890625 26.8125 6.890625 \r\nQ 36.078125 6.890625 40.9375 10.546875 \r\nQ 45.796875 14.203125 45.796875 21.1875 \r\nQ 45.796875 27.640625 41.28125 31.265625 \r\nQ 36.765625 34.90625 28.71875 34.90625 \r\nL 20.21875 34.90625 \r\nL 20.21875 43.015625 \r\nL 29.109375 43.015625 \r\nQ 36.375 43.015625 40.234375 45.921875 \r\nQ 44.09375 48.828125 44.09375 54.296875 \r\nQ 44.09375 59.90625 40.109375 62.90625 \r\nQ 36.140625 65.921875 28.71875 65.921875 \r\nQ 24.65625 65.921875 20.015625 65.03125 \r\nQ 15.375 64.15625 9.8125 62.3125 \r\nL 9.8125 71.09375 \r\nQ 15.4375 72.65625 20.34375 73.4375 \r\nQ 25.25 74.21875 29.59375 74.21875 \r\nQ 40.828125 74.21875 47.359375 69.109375 \r\nQ 53.90625 64.015625 53.90625 55.328125 \r\nQ 53.90625 49.265625 50.4375 45.09375 \r\nQ 46.96875 40.921875 40.578125 39.3125 \r\nz\r\n\" id=\"DejaVuSans-51\"/>\r\n      </defs>\r\n      <g transform=\"translate(20.878125 54.41761)scale(0.1 -0.1)\">\r\n       <use xlink:href=\"#DejaVuSans-51\"/>\r\n       <use x=\"63.623047\" xlink:href=\"#DejaVuSans-48\"/>\r\n       <use x=\"127.246094\" xlink:href=\"#DejaVuSans-48\"/>\r\n      </g>\r\n     </g>\r\n    </g>\r\n    <g id=\"ytick_8\">\r\n     <g id=\"line2d_10\">\r\n      <g>\r\n       <use style=\"stroke:#000000;stroke-width:0.8;\" x=\"46.965625\" xlink:href=\"#m6d6db619aa\" y=\"21.61479\"/>\r\n      </g>\r\n     </g>\r\n     <g id=\"text_11\">\r\n      <!-- 350 -->\r\n      <g transform=\"translate(20.878125 25.414009)scale(0.1 -0.1)\">\r\n       <use xlink:href=\"#DejaVuSans-51\"/>\r\n       <use x=\"63.623047\" xlink:href=\"#DejaVuSans-53\"/>\r\n       <use x=\"127.246094\" xlink:href=\"#DejaVuSans-48\"/>\r\n      </g>\r\n     </g>\r\n    </g>\r\n    <g id=\"text_12\">\r\n     <!-- count -->\r\n     <defs>\r\n      <path d=\"M 48.78125 52.59375 \r\nL 48.78125 44.1875 \r\nQ 44.96875 46.296875 41.140625 47.34375 \r\nQ 37.3125 48.390625 33.40625 48.390625 \r\nQ 24.65625 48.390625 19.8125 42.84375 \r\nQ 14.984375 37.3125 14.984375 27.296875 \r\nQ 14.984375 17.28125 19.8125 11.734375 \r\nQ 24.65625 6.203125 33.40625 6.203125 \r\nQ 37.3125 6.203125 41.140625 7.25 \r\nQ 44.96875 8.296875 48.78125 10.40625 \r\nL 48.78125 2.09375 \r\nQ 45.015625 0.34375 40.984375 -0.53125 \r\nQ 36.96875 -1.421875 32.421875 -1.421875 \r\nQ 20.0625 -1.421875 12.78125 6.34375 \r\nQ 5.515625 14.109375 5.515625 27.296875 \r\nQ 5.515625 40.671875 12.859375 48.328125 \r\nQ 20.21875 56 33.015625 56 \r\nQ 37.15625 56 41.109375 55.140625 \r\nQ 45.0625 54.296875 48.78125 52.59375 \r\nz\r\n\" id=\"DejaVuSans-99\"/>\r\n      <path d=\"M 8.5 21.578125 \r\nL 8.5 54.6875 \r\nL 17.484375 54.6875 \r\nL 17.484375 21.921875 \r\nQ 17.484375 14.15625 20.5 10.265625 \r\nQ 23.53125 6.390625 29.59375 6.390625 \r\nQ 36.859375 6.390625 41.078125 11.03125 \r\nQ 45.3125 15.671875 45.3125 23.6875 \r\nL 45.3125 54.6875 \r\nL 54.296875 54.6875 \r\nL 54.296875 0 \r\nL 45.3125 0 \r\nL 45.3125 8.40625 \r\nQ 42.046875 3.421875 37.71875 1 \r\nQ 33.40625 -1.421875 27.6875 -1.421875 \r\nQ 18.265625 -1.421875 13.375 4.4375 \r\nQ 8.5 10.296875 8.5 21.578125 \r\nz\r\nM 31.109375 56 \r\nz\r\n\" id=\"DejaVuSans-117\"/>\r\n      <path d=\"M 18.3125 70.21875 \r\nL 18.3125 54.6875 \r\nL 36.8125 54.6875 \r\nL 36.8125 47.703125 \r\nL 18.3125 47.703125 \r\nL 18.3125 18.015625 \r\nQ 18.3125 11.328125 20.140625 9.421875 \r\nQ 21.96875 7.515625 27.59375 7.515625 \r\nL 36.8125 7.515625 \r\nL 36.8125 0 \r\nL 27.59375 0 \r\nQ 17.1875 0 13.234375 3.875 \r\nQ 9.28125 7.765625 9.28125 18.015625 \r\nL 9.28125 47.703125 \r\nL 2.6875 47.703125 \r\nL 2.6875 54.6875 \r\nL 9.28125 54.6875 \r\nL 9.28125 70.21875 \r\nz\r\n\" id=\"DejaVuSans-116\"/>\r\n     </defs>\r\n     <g transform=\"translate(14.798438 130.02625)rotate(-90)scale(0.1 -0.1)\">\r\n      <use xlink:href=\"#DejaVuSans-99\"/>\r\n      <use x=\"54.980469\" xlink:href=\"#DejaVuSans-111\"/>\r\n      <use x=\"116.162109\" xlink:href=\"#DejaVuSans-117\"/>\r\n      <use x=\"179.541016\" xlink:href=\"#DejaVuSans-110\"/>\r\n      <use x=\"242.919922\" xlink:href=\"#DejaVuSans-116\"/>\r\n     </g>\r\n    </g>\r\n   </g>\r\n   <g id=\"patch_5\">\r\n    <path d=\"M 46.965625 224.64 \r\nL 46.965625 7.2 \r\n\" style=\"fill:none;stroke:#000000;stroke-linecap:square;stroke-linejoin:miter;stroke-width:0.8;\"/>\r\n   </g>\r\n   <g id=\"patch_6\">\r\n    <path d=\"M 381.765625 224.64 \r\nL 381.765625 7.2 \r\n\" style=\"fill:none;stroke:#000000;stroke-linecap:square;stroke-linejoin:miter;stroke-width:0.8;\"/>\r\n   </g>\r\n   <g id=\"patch_7\">\r\n    <path d=\"M 46.965625 224.64 \r\nL 381.765625 224.64 \r\n\" style=\"fill:none;stroke:#000000;stroke-linecap:square;stroke-linejoin:miter;stroke-width:0.8;\"/>\r\n   </g>\r\n   <g id=\"patch_8\">\r\n    <path d=\"M 46.965625 7.2 \r\nL 381.765625 7.2 \r\n\" style=\"fill:none;stroke:#000000;stroke-linecap:square;stroke-linejoin:miter;stroke-width:0.8;\"/>\r\n   </g>\r\n  </g>\r\n </g>\r\n <defs>\r\n  <clipPath id=\"pfc0d2b5ee9\">\r\n   <rect height=\"217.44\" width=\"334.8\" x=\"46.965625\" y=\"7.2\"/>\r\n  </clipPath>\r\n </defs>\r\n</svg>\r\n",
            "image/png": "[encoded data removed]"
          },
          "metadata": {
            "needs_background": "light"
          }
        }
      ]
    },
    {
      "cell_type": "code",
      "metadata": {
        "id": "SaTGmRGuf39v",
        "colab_type": "code",
        "colab": {}
      },
      "source": [
        "import numpy as np\n",
        "import matplotlib.pyplot as plt\n",
        "\n",
        "del data['Unnamed: 32']"
      ],
      "execution_count": 3,
      "outputs": []
    },
    {
      "cell_type": "code",
      "metadata": {
        "id": "m4Fb2PgPgJaf",
        "colab_type": "code",
        "colab": {}
      },
      "source": [
        "X =  data.iloc[:,2:].values\n",
        "Y =  data.iloc[: ,1].values\n",
        "\n",
        "from sklearn.preprocessing import LabelEncoder\n",
        "labelEncoder = LabelEncoder()\n",
        "Y = labelEncoder.fit_transform(Y)"
      ],
      "execution_count": 4,
      "outputs": []
    },
    {
      "cell_type": "code",
      "metadata": {
        "id": "w-o8qtGSkwpa",
        "colab_type": "code",
        "colab": {
          "base_uri": "https://localhost:8080/",
          "height": 136
        },
        "outputId": "e72cdf5d-5075-45af-f405-74bc99d93021"
      },
      "source": [
        "Y_test"
      ],
      "execution_count": 7,
      "outputs": [
        {
          "output_type": "execute_result",
          "data": {
            "text/plain": "array([1, 0, 0, 0, 0, 0, 0, 0, 0, 0, 0, 0, 0, 0, 0, 1, 0, 1, 1, 1, 1, 1,\n       0, 0, 1, 0, 0, 1, 0, 1, 0, 1, 0, 1, 0, 1, 0, 1, 0, 1, 1, 0, 1, 0,\n       0, 1, 0, 0, 0, 1, 1, 1, 1, 0, 0, 0, 0, 0, 0, 1, 1, 1, 0, 0, 1, 0,\n       1, 1, 1, 0, 0, 1, 0, 1, 1, 0, 0, 0, 0, 0, 1, 1, 1, 0, 1, 0, 0, 0,\n       1, 1, 0, 1, 0, 1, 0, 0, 1, 0, 0, 0, 0, 0, 0, 0, 1, 0, 1, 0, 1, 1,\n       0, 1, 1, 0, 0, 0, 0, 0, 0, 0, 0, 0, 1, 0, 1, 0, 0, 0, 0, 0, 1, 0,\n       0, 0, 0, 0, 0, 1, 1, 0, 0, 0, 1])"
          },
          "metadata": {},
          "execution_count": 7
        }
      ]
    },
    {
      "cell_type": "code",
      "metadata": {
        "id": "G8Fjt5YKizw1",
        "colab_type": "code",
        "colab": {
          "base_uri": "https://localhost:8080/",
          "height": 238
        },
        "outputId": "dc03e8be-a1d2-4e03-a2e6-fa66cf87e12b"
      },
      "source": [
        "X_train"
      ],
      "execution_count": 8,
      "outputs": [
        {
          "output_type": "execute_result",
          "data": {
            "text/plain": "array([[-0.65079907, -0.43057322, -0.68024847, ..., -0.36433881,\n         0.32349851, -0.7578486 ],\n       [-0.82835341,  0.15226547, -0.82773762, ..., -1.45036679,\n         0.62563098, -1.03071387],\n       [ 1.68277234,  2.18977235,  1.60009756, ...,  0.72504581,\n        -0.51329768, -0.96601386],\n       ...,\n       [-1.33114223, -0.22172269, -1.3242844 , ..., -0.98806491,\n        -0.69995543, -0.12266325],\n       [-1.25110186, -0.24600763, -1.28700242, ..., -1.75887319,\n        -1.56206114, -1.00989735],\n       [-0.74662205,  1.14066273, -0.72203706, ..., -0.2860679 ,\n        -1.24094654,  0.2126516 ]])"
          },
          "metadata": {},
          "execution_count": 8
        }
      ]
    },
    {
      "cell_type": "code",
      "metadata": {
        "id": "2Uh5WvBui2NF",
        "colab_type": "code",
        "colab": {
          "base_uri": "https://localhost:8080/",
          "height": 119
        },
        "outputId": "8b2e2621-556d-4ffe-c1f0-07c8dd5d7a02"
      },
      "source": [
        "# !pip install --upgrade keras"
      ],
      "execution_count": 9,
      "outputs": []
    },
    {
      "cell_type": "code",
      "metadata": {
        "id": "NVMOOoAlghO6",
        "colab_type": "code",
        "colab": {},
        "tags": []
      },
      "source": [
        "import keras\n",
        "\n",
        "from keras.models import Sequential\n",
        "from keras.layers import Dense"
      ],
      "execution_count": 10,
      "outputs": [
        {
          "output_type": "stream",
          "name": "stderr",
          "text": "Using TensorFlow backend.\n"
        }
      ]
    },
    {
      "cell_type": "code",
      "metadata": {
        "id": "CPhiou1FJWHw",
        "colab_type": "code",
        "colab": {}
      },
      "source": [
        "# REMOVE CHANGEING OF ACCURACY AT RUN TIME MODEL\n",
        "from keras.wrappers.scikit_learn import KerasClassifier\n",
        "import sklearn\n",
        "from sklearn.model_selection import cross_val_score  \n",
        "from sklearn.model_selection import GridSearchCV"
      ],
      "execution_count": 11,
      "outputs": []
    },
    {
      "cell_type": "code",
      "metadata": {
        "id": "xwMp6CjdKADk",
        "colab_type": "code",
        "colab": {}
      },
      "source": [
        "def built_classifier(optimizer):\n",
        "  classifier = Sequential()\n",
        "  #First Layer (Input + Hidden Layer)\n",
        "  classifier.add(Dense(16,kernel_initializer='uniform',activation='relu',input_dim=30 ))\n",
        "  #Second Layer (Hidden Layer)\n",
        "  classifier.add(Dense(16,kernel_initializer='uniform',activation='relu'))\n",
        "  #Third Layer (Output Layer)\n",
        "  classifier.add(Dense(1,kernel_initializer='uniform',activation=\"sigmoid\" ))\n",
        "  classifier.compile(optimizer=optimizer,loss=\"binary_crossentropy\",metrics=['accuracy'])\n",
        "  return classifier"
      ],
      "execution_count": 12,
      "outputs": []
    },
    {
      "cell_type": "code",
      "metadata": {
        "id": "Wtc9dOT8KqRQ",
        "colab_type": "code",
        "colab": {
          "base_uri": "https://localhost:8080/",
          "height": 1000
        },
        "outputId": "bd0375dc-d590-49b0-87c9-e31b523ab812",
        "tags": [
          "outputPrepend"
        ]
      },
      "source": [
        "model = KerasClassifier(build_fn=built_classifier)\n",
        "parameter={'batch_size':[100,150],'epochs':[100,200],'optimizer':['adam','rmsprop']}\n",
        "grid_search = GridSearchCV(estimator=model,param_grid=parameter,scoring='accuracy',cv=10)\n",
        "grid_search = grid_search.fit(X=X_train,y=Y_train)\n",
        "best_parameter = grid_search.best_params_\n",
        "best_accuracies = grid_search.best_score_"
      ],
      "execution_count": 13,
      "outputs": [
        {
          "output_type": "stream",
          "name": "stdout",
          "text": "3ms/step - loss: 0.6825 - accuracy: 0.9131\nEpoch 4/200\n3/3 [==============================] - 0s 3ms/step - loss: 0.6751 - accuracy: 0.9272\nEpoch 5/200\n3/3 [==============================] - 0s 4ms/step - loss: 0.6661 - accuracy: 0.9413\nEpoch 6/200\n3/3 [==============================] - 0s 5ms/step - loss: 0.6557 - accuracy: 0.9460\nEpoch 7/200\n3/3 [==============================] - 0s 3ms/step - loss: 0.6439 - accuracy: 0.9531\nEpoch 8/200\n3/3 [==============================] - 0s 3ms/step - loss: 0.6307 - accuracy: 0.9484\nEpoch 9/200\n3/3 [==============================] - 0s 5ms/step - loss: 0.6163 - accuracy: 0.9484\nEpoch 10/200\n3/3 [==============================] - 0s 4ms/step - loss: 0.6008 - accuracy: 0.9507\nEpoch 11/200\n3/3 [==============================] - 0s 3ms/step - loss: 0.5843 - accuracy: 0.9507\nEpoch 12/200\n3/3 [==============================] - 0s 4ms/step - loss: 0.5672 - accuracy: 0.9507\nEpoch 13/200\n3/3 [==============================] - 0s 2ms/step - loss: 0.5493 - accuracy: 0.9507\nEpoch 14/200\n3/3 [==============================] - 0s 4ms/step - loss: 0.5308 - accuracy: 0.9507\nEpoch 15/200\n3/3 [==============================] - 0s 7ms/step - loss: 0.5119 - accuracy: 0.9531\nEpoch 16/200\n3/3 [==============================] - 0s 4ms/step - loss: 0.4927 - accuracy: 0.9577\nEpoch 17/200\n3/3 [==============================] - 0s 3ms/step - loss: 0.4732 - accuracy: 0.9601\nEpoch 18/200\n3/3 [==============================] - 0s 3ms/step - loss: 0.4537 - accuracy: 0.9601\nEpoch 19/200\n3/3 [==============================] - 0s 4ms/step - loss: 0.4344 - accuracy: 0.9601\nEpoch 20/200\n3/3 [==============================] - 0s 3ms/step - loss: 0.4154 - accuracy: 0.9648\nEpoch 21/200\n3/3 [==============================] - 0s 3ms/step - loss: 0.3966 - accuracy: 0.9648\nEpoch 22/200\n3/3 [==============================] - 0s 8ms/step - loss: 0.3781 - accuracy: 0.9648\nEpoch 23/200\n3/3 [==============================] - 0s 3ms/step - loss: 0.3603 - accuracy: 0.9648\nEpoch 24/200\n3/3 [==============================] - 0s 3ms/step - loss: 0.3428 - accuracy: 0.9671\nEpoch 25/200\n3/3 [==============================] - 0s 3ms/step - loss: 0.3260 - accuracy: 0.9671\nEpoch 26/200\n3/3 [==============================] - 0s 8ms/step - loss: 0.3099 - accuracy: 0.9671\nEpoch 27/200\n3/3 [==============================] - 0s 2ms/step - loss: 0.2945 - accuracy: 0.9671\nEpoch 28/200\n3/3 [==============================] - 0s 5ms/step - loss: 0.2797 - accuracy: 0.9695\nEpoch 29/200\n3/3 [==============================] - 0s 3ms/step - loss: 0.2656 - accuracy: 0.9695\nEpoch 30/200\n3/3 [==============================] - 0s 3ms/step - loss: 0.2521 - accuracy: 0.9695\nEpoch 31/200\n3/3 [==============================] - 0s 3ms/step - loss: 0.2394 - accuracy: 0.9695\nEpoch 32/200\n3/3 [==============================] - 0s 3ms/step - loss: 0.2272 - accuracy: 0.9695\nEpoch 33/200\n3/3 [==============================] - 0s 5ms/step - loss: 0.2157 - accuracy: 0.9742\nEpoch 34/200\n3/3 [==============================] - 0s 2ms/step - loss: 0.2049 - accuracy: 0.9742\nEpoch 35/200\n3/3 [==============================] - 0s 2ms/step - loss: 0.1947 - accuracy: 0.9742\nEpoch 36/200\n1/3 [=========>....................] - ETA: 0s - loss: 0.1934 - accuracy: 0.983/3 [==============================] - 0s 4ms/step - loss: 0.1851 - accuracy: 0.9742\nEpoch 37/200\n3/3 [==============================] - 0s 3ms/step - loss: 0.1762 - accuracy: 0.9742\nEpoch 38/200\n3/3 [==============================] - 0s 2ms/step - loss: 0.1677 - accuracy: 0.9742\nEpoch 39/200\n3/3 [==============================] - 0s 2ms/step - loss: 0.1598 - accuracy: 0.9765\nEpoch 40/200\n3/3 [==============================] - 0s 7ms/step - loss: 0.1523 - accuracy: 0.9765\nEpoch 41/200\n3/3 [==============================] - 0s 5ms/step - loss: 0.1454 - accuracy: 0.9765\nEpoch 42/200\n3/3 [==============================] - 0s 2ms/step - loss: 0.1388 - accuracy: 0.9765\nEpoch 43/200\n3/3 [==============================] - 0s 2ms/step - loss: 0.1327 - accuracy: 0.9765\nEpoch 44/200\n3/3 [==============================] - 0s 4ms/step - loss: 0.1271 - accuracy: 0.9765\nEpoch 45/200\n3/3 [==============================] - 0s 4ms/step - loss: 0.1219 - accuracy: 0.9765\nEpoch 46/200\n3/3 [==============================] - 0s 2ms/step - loss: 0.1168 - accuracy: 0.9765\nEpoch 47/200\n3/3 [==============================] - 0s 2ms/step - loss: 0.1123 - accuracy: 0.9765\nEpoch 48/200\n1/3 [=========>....................] - ETA: 0s - loss: 0.0959 - accuracy: 0.993/3 [==============================] - 0s 3ms/step - loss: 0.1079 - accuracy: 0.9789\nEpoch 49/200\n3/3 [==============================] - 0s 4ms/step - loss: 0.1040 - accuracy: 0.9789\nEpoch 50/200\n3/3 [==============================] - 0s 2ms/step - loss: 0.1003 - accuracy: 0.9789\nEpoch 51/200\n3/3 [==============================] - 0s 5ms/step - loss: 0.0967 - accuracy: 0.9789\nEpoch 52/200\n3/3 [==============================] - 0s 2ms/step - loss: 0.0938 - accuracy: 0.9812\nEpoch 53/200\n3/3 [==============================] - 0s 4ms/step - loss: 0.0907 - accuracy: 0.9812\nEpoch 54/200\n3/3 [==============================] - 0s 2ms/step - loss: 0.0882 - accuracy: 0.9812\nEpoch 55/200\n3/3 [==============================] - 0s 4ms/step - loss: 0.0856 - accuracy: 0.9812\nEpoch 56/200\n3/3 [==============================] - 0s 5ms/step - loss: 0.0832 - accuracy: 0.9812\nEpoch 57/200\n3/3 [==============================] - 0s 3ms/step - loss: 0.0810 - accuracy: 0.9812\nEpoch 58/200\n1/3 [=========>....................] - ETA: 0s - loss: 0.0572 - accuracy: 0.983/3 [==============================] - 0s 6ms/step - loss: 0.0791 - accuracy: 0.9812\nEpoch 59/200\n3/3 [==============================] - 0s 4ms/step - loss: 0.0772 - accuracy: 0.9812\nEpoch 60/200\n3/3 [==============================] - 0s 3ms/step - loss: 0.0754 - accuracy: 0.9812\nEpoch 61/200\n3/3 [==============================] - 0s 5ms/step - loss: 0.0740 - accuracy: 0.9812\nEpoch 62/200\n3/3 [==============================] - 0s 3ms/step - loss: 0.0725 - accuracy: 0.9812\nEpoch 63/200\n3/3 [==============================] - 0s 3ms/step - loss: 0.0712 - accuracy: 0.9812\nEpoch 64/200\n3/3 [==============================] - 0s 2ms/step - loss: 0.0699 - accuracy: 0.9812\nEpoch 65/200\n3/3 [==============================] - 0s 11ms/step - loss: 0.0689 - accuracy: 0.9812\nEpoch 66/200\n3/3 [==============================] - 0s 2ms/step - loss: 0.0680 - accuracy: 0.9812\nEpoch 67/200\n3/3 [==============================] - 0s 3ms/step - loss: 0.0669 - accuracy: 0.9812\nEpoch 68/200\n3/3 [==============================] - 0s 10ms/step - loss: 0.0659 - accuracy: 0.9812\nEpoch 69/200\n3/3 [==============================] - 0s 4ms/step - loss: 0.0649 - accuracy: 0.9859\nEpoch 70/200\n3/3 [==============================] - 0s 4ms/step - loss: 0.0641 - accuracy: 0.9859\nEpoch 71/200\n3/3 [==============================] - 0s 4ms/step - loss: 0.0632 - accuracy: 0.9859\nEpoch 72/200\n3/3 [==============================] - 0s 5ms/step - loss: 0.0625 - accuracy: 0.9859\nEpoch 73/200\n3/3 [==============================] - 0s 2ms/step - loss: 0.0616 - accuracy: 0.9859\nEpoch 74/200\n3/3 [==============================] - 0s 2ms/step - loss: 0.0609 - accuracy: 0.9859\nEpoch 75/200\n3/3 [==============================] - 0s 3ms/step - loss: 0.0604 - accuracy: 0.9859\nEpoch 76/200\n3/3 [==============================] - 0s 5ms/step - loss: 0.0595 - accuracy: 0.9859\nEpoch 77/200\n3/3 [==============================] - 0s 4ms/step - loss: 0.0590 - accuracy: 0.9859\nEpoch 78/200\n3/3 [==============================] - 0s 4ms/step - loss: 0.0585 - accuracy: 0.9883\nEpoch 79/200\n3/3 [==============================] - 0s 6ms/step - loss: 0.0579 - accuracy: 0.9883\nEpoch 80/200\n3/3 [==============================] - 0s 4ms/step - loss: 0.0571 - accuracy: 0.9883\nEpoch 81/200\n3/3 [==============================] - 0s 5ms/step - loss: 0.0568 - accuracy: 0.9883\nEpoch 82/200\n3/3 [==============================] - 0s 3ms/step - loss: 0.0561 - accuracy: 0.9883\nEpoch 83/200\n3/3 [==============================] - 0s 4ms/step - loss: 0.0556 - accuracy: 0.9883\nEpoch 84/200\n3/3 [==============================] - 0s 5ms/step - loss: 0.0551 - accuracy: 0.9883\nEpoch 85/200\n3/3 [==============================] - 0s 2ms/step - loss: 0.0545 - accuracy: 0.9883\nEpoch 86/200\n3/3 [==============================] - 0s 3ms/step - loss: 0.0541 - accuracy: 0.9883\nEpoch 87/200\n3/3 [==============================] - 0s 4ms/step - loss: 0.0535 - accuracy: 0.9883\nEpoch 88/200\n3/3 [==============================] - 0s 2ms/step - loss: 0.0533 - accuracy: 0.9883\nEpoch 89/200\n3/3 [==============================] - 0s 4ms/step - loss: 0.0527 - accuracy: 0.9883\nEpoch 90/200\n3/3 [==============================] - 0s 3ms/step - loss: 0.0522 - accuracy: 0.9883\nEpoch 91/200\n3/3 [==============================] - 0s 4ms/step - loss: 0.0519 - accuracy: 0.9883\nEpoch 92/200\n3/3 [==============================] - 0s 4ms/step - loss: 0.0515 - accuracy: 0.9883\nEpoch 93/200\n3/3 [==============================] - 0s 5ms/step - loss: 0.0509 - accuracy: 0.9883\nEpoch 94/200\n3/3 [==============================] - 0s 4ms/step - loss: 0.0508 - accuracy: 0.9883\nEpoch 95/200\n3/3 [==============================] - 0s 3ms/step - loss: 0.0501 - accuracy: 0.9883\nEpoch 96/200\n3/3 [==============================] - 0s 2ms/step - loss: 0.0498 - accuracy: 0.9883\nEpoch 97/200\n3/3 [==============================] - 0s 8ms/step - loss: 0.0493 - accuracy: 0.9883\nEpoch 98/200\n3/3 [==============================] - 0s 3ms/step - loss: 0.0488 - accuracy: 0.9883\nEpoch 99/200\n3/3 [==============================] - 0s 4ms/step - loss: 0.0488 - accuracy: 0.9883\nEpoch 100/200\n3/3 [==============================] - 0s 4ms/step - loss: 0.0480 - accuracy: 0.9883\nEpoch 101/200\n3/3 [==============================] - 0s 5ms/step - loss: 0.0477 - accuracy: 0.9883\nEpoch 102/200\n3/3 [==============================] - 0s 4ms/step - loss: 0.0473 - accuracy: 0.9883\nEpoch 103/200\n3/3 [==============================] - 0s 3ms/step - loss: 0.0469 - accuracy: 0.9883\nEpoch 104/200\n3/3 [==============================] - 0s 6ms/step - loss: 0.0469 - accuracy: 0.9883\nEpoch 105/200\n3/3 [==============================] - 0s 2ms/step - loss: 0.0460 - accuracy: 0.9883\nEpoch 106/200\n3/3 [==============================] - 0s 2ms/step - loss: 0.0457 - accuracy: 0.9883\nEpoch 107/200\n3/3 [==============================] - 0s 3ms/step - loss: 0.0452 - accuracy: 0.9883\nEpoch 108/200\n3/3 [==============================] - 0s 13ms/step - loss: 0.0451 - accuracy: 0.9883\nEpoch 109/200\n3/3 [==============================] - 0s 4ms/step - loss: 0.0450 - accuracy: 0.9883\nEpoch 110/200\n3/3 [==============================] - 0s 3ms/step - loss: 0.0444 - accuracy: 0.9883\nEpoch 111/200\n3/3 [==============================] - 0s 4ms/step - loss: 0.0441 - accuracy: 0.9883\nEpoch 112/200\n3/3 [==============================] - 0s 3ms/step - loss: 0.0439 - accuracy: 0.9883\nEpoch 113/200\n3/3 [==============================] - 0s 2ms/step - loss: 0.0435 - accuracy: 0.9906\nEpoch 114/200\n3/3 [==============================] - 0s 4ms/step - loss: 0.0432 - accuracy: 0.9906\nEpoch 115/200\n3/3 [==============================] - 0s 18ms/step - loss: 0.0428 - accuracy: 0.9906\nEpoch 116/200\n3/3 [==============================] - 0s 5ms/step - loss: 0.0426 - accuracy: 0.9906\nEpoch 117/200\n3/3 [==============================] - 0s 3ms/step - loss: 0.0423 - accuracy: 0.9906\nEpoch 118/200\n3/3 [==============================] - 0s 12ms/step - loss: 0.0421 - accuracy: 0.9906\nEpoch 119/200\n3/3 [==============================] - 0s 2ms/step - loss: 0.0417 - accuracy: 0.9906\nEpoch 120/200\n3/3 [==============================] - 0s 2ms/step - loss: 0.0413 - accuracy: 0.9906\nEpoch 121/200\n3/3 [==============================] - 0s 2ms/step - loss: 0.0412 - accuracy: 0.9906\nEpoch 122/200\n3/3 [==============================] - 0s 10ms/step - loss: 0.0408 - accuracy: 0.9906\nEpoch 123/200\n3/3 [==============================] - 0s 2ms/step - loss: 0.0404 - accuracy: 0.9906\nEpoch 124/200\n3/3 [==============================] - 0s 2ms/step - loss: 0.0403 - accuracy: 0.9906\nEpoch 125/200\n3/3 [==============================] - 0s 17ms/step - loss: 0.0398 - accuracy: 0.9906\nEpoch 126/200\n3/3 [==============================] - 0s 2ms/step - loss: 0.0395 - accuracy: 0.9906\nEpoch 127/200\n3/3 [==============================] - 0s 2ms/step - loss: 0.0393 - accuracy: 0.9906\nEpoch 128/200\n3/3 [==============================] - 0s 2ms/step - loss: 0.0390 - accuracy: 0.9906\nEpoch 129/200\n3/3 [==============================] - 0s 19ms/step - loss: 0.0387 - accuracy: 0.9906\nEpoch 130/200\n3/3 [==============================] - 0s 3ms/step - loss: 0.0386 - accuracy: 0.9906\nEpoch 131/200\n3/3 [==============================] - 0s 2ms/step - loss: 0.0382 - accuracy: 0.9906\nEpoch 132/200\n3/3 [==============================] - 0s 2ms/step - loss: 0.0380 - accuracy: 0.9906\nEpoch 133/200\n3/3 [==============================] - 0s 16ms/step - loss: 0.0377 - accuracy: 0.9906\nEpoch 134/200\n3/3 [==============================] - 0s 2ms/step - loss: 0.0374 - accuracy: 0.9906\nEpoch 135/200\n3/3 [==============================] - 0s 4ms/step - loss: 0.0370 - accuracy: 0.9906\nEpoch 136/200\n3/3 [==============================] - 0s 2ms/step - loss: 0.0368 - accuracy: 0.9906\nEpoch 137/200\n3/3 [==============================] - 0s 11ms/step - loss: 0.0365 - accuracy: 0.9906\nEpoch 138/200\n3/3 [==============================] - 0s 4ms/step - loss: 0.0363 - accuracy: 0.9906\nEpoch 139/200\n3/3 [==============================] - 0s 3ms/step - loss: 0.0360 - accuracy: 0.9906\nEpoch 140/200\n3/3 [==============================] - 0s 3ms/step - loss: 0.0357 - accuracy: 0.9906\nEpoch 141/200\n3/3 [==============================] - 0s 3ms/step - loss: 0.0356 - accuracy: 0.9906\nEpoch 142/200\n3/3 [==============================] - 0s 3ms/step - loss: 0.0353 - accuracy: 0.9906\nEpoch 143/200\n3/3 [==============================] - 0s 3ms/step - loss: 0.0350 - accuracy: 0.9906\nEpoch 144/200\n3/3 [==============================] - 0s 2ms/step - loss: 0.0349 - accuracy: 0.9906\nEpoch 145/200\n3/3 [==============================] - 0s 3ms/step - loss: 0.0346 - accuracy: 0.9906\nEpoch 146/200\n3/3 [==============================] - 0s 5ms/step - loss: 0.0344 - accuracy: 0.9906\nEpoch 147/200\n3/3 [==============================] - 0s 2ms/step - loss: 0.0340 - accuracy: 0.9906\nEpoch 148/200\n1/3 [=========>....................] - ETA: 0s - loss: 0.0402 - accuracy: 0.983/3 [==============================] - 0s 2ms/step - loss: 0.0338 - accuracy: 0.9906\nEpoch 149/200\n3/3 [==============================] - 0s 4ms/step - loss: 0.0337 - accuracy: 0.9906\nEpoch 150/200\n3/3 [==============================] - 0s 5ms/step - loss: 0.0333 - accuracy: 0.9906\nEpoch 151/200\n3/3 [==============================] - 0s 5ms/step - loss: 0.0331 - accuracy: 0.9906\nEpoch 152/200\n3/3 [==============================] - 0s 6ms/step - loss: 0.0329 - accuracy: 0.9906\nEpoch 153/200\n3/3 [==============================] - 0s 4ms/step - loss: 0.0326 - accuracy: 0.9906\nEpoch 154/200\n3/3 [==============================] - 0s 3ms/step - loss: 0.0327 - accuracy: 0.9906\nEpoch 155/200\n3/3 [==============================] - 0s 3ms/step - loss: 0.0322 - accuracy: 0.9906\nEpoch 156/200\n3/3 [==============================] - 0s 3ms/step - loss: 0.0322 - accuracy: 0.9906\nEpoch 157/200\n3/3 [==============================] - 0s 4ms/step - loss: 0.0317 - accuracy: 0.9906\nEpoch 158/200\n3/3 [==============================] - 0s 4ms/step - loss: 0.0316 - accuracy: 0.9906\nEpoch 159/200\n3/3 [==============================] - 0s 3ms/step - loss: 0.0314 - accuracy: 0.9906\nEpoch 160/200\n3/3 [==============================] - 0s 3ms/step - loss: 0.0314 - accuracy: 0.9906\nEpoch 161/200\n1/3 [=========>....................] - ETA: 0s - loss: 0.0358 - accuracy: 0.983/3 [==============================] - 0s 3ms/step - loss: 0.0309 - accuracy: 0.9906\nEpoch 162/200\n3/3 [==============================] - 0s 2ms/step - loss: 0.0308 - accuracy: 0.9906\nEpoch 163/200\n3/3 [==============================] - 0s 7ms/step - loss: 0.0305 - accuracy: 0.9906\nEpoch 164/200\n3/3 [==============================] - 0s 3ms/step - loss: 0.0304 - accuracy: 0.9906\nEpoch 165/200\n3/3 [==============================] - 0s 3ms/step - loss: 0.0303 - accuracy: 0.9906\nEpoch 166/200\n3/3 [==============================] - 0s 3ms/step - loss: 0.0301 - accuracy: 0.9906\nEpoch 167/200\n3/3 [==============================] - 0s 4ms/step - loss: 0.0298 - accuracy: 0.9906\nEpoch 168/200\n3/3 [==============================] - 0s 4ms/step - loss: 0.0297 - accuracy: 0.9906\nEpoch 169/200\n3/3 [==============================] - 0s 2ms/step - loss: 0.0293 - accuracy: 0.9906\nEpoch 170/200\n3/3 [==============================] - 0s 5ms/step - loss: 0.0292 - accuracy: 0.9906\nEpoch 171/200\n3/3 [==============================] - 0s 2ms/step - loss: 0.0289 - accuracy: 0.9906\nEpoch 172/200\n3/3 [==============================] - 0s 2ms/step - loss: 0.0288 - accuracy: 0.9906\nEpoch 173/200\n3/3 [==============================] - 0s 2ms/step - loss: 0.0286 - accuracy: 0.9906\nEpoch 174/200\n1/3 [=========>....................] - ETA: 0s - loss: 0.0053 - accuracy: 1.003/3 [==============================] - 0s 6ms/step - loss: 0.0285 - accuracy: 0.9906\nEpoch 175/200\n3/3 [==============================] - 0s 2ms/step - loss: 0.0282 - accuracy: 0.9906\nEpoch 176/200\n3/3 [==============================] - 0s 3ms/step - loss: 0.0282 - accuracy: 0.9906\nEpoch 177/200\n3/3 [==============================] - 0s 2ms/step - loss: 0.0279 - accuracy: 0.9906\nEpoch 178/200\n3/3 [==============================] - 0s 4ms/step - loss: 0.0279 - accuracy: 0.9906\nEpoch 179/200\n3/3 [==============================] - 0s 3ms/step - loss: 0.0276 - accuracy: 0.9906\nEpoch 180/200\n3/3 [==============================] - 0s 4ms/step - loss: 0.0274 - accuracy: 0.9906\nEpoch 181/200\n3/3 [==============================] - 0s 6ms/step - loss: 0.0273 - accuracy: 0.9906\nEpoch 182/200\n3/3 [==============================] - 0s 4ms/step - loss: 0.0272 - accuracy: 0.9906\nEpoch 183/200\n3/3 [==============================] - 0s 2ms/step - loss: 0.0269 - accuracy: 0.9906\nEpoch 184/200\n3/3 [==============================] - 0s 2ms/step - loss: 0.0267 - accuracy: 0.9906\nEpoch 185/200\n3/3 [==============================] - 0s 3ms/step - loss: 0.0265 - accuracy: 0.9906\nEpoch 186/200\n3/3 [==============================] - 0s 2ms/step - loss: 0.0267 - accuracy: 0.9906\nEpoch 187/200\n3/3 [==============================] - 0s 2ms/step - loss: 0.0264 - accuracy: 0.9906\nEpoch 188/200\n3/3 [==============================] - 0s 4ms/step - loss: 0.0261 - accuracy: 0.9906\nEpoch 189/200\n1/3 [=========>....................] - ETA: 0s - loss: 0.0182 - accuracy: 0.993/3 [==============================] - 0s 4ms/step - loss: 0.0259 - accuracy: 0.9906\nEpoch 190/200\n3/3 [==============================] - 0s 4ms/step - loss: 0.0260 - accuracy: 0.9906\nEpoch 191/200\n3/3 [==============================] - 0s 4ms/step - loss: 0.0256 - accuracy: 0.9906\nEpoch 192/200\n3/3 [==============================] - 0s 5ms/step - loss: 0.0255 - accuracy: 0.9906\nEpoch 193/200\n3/3 [==============================] - 0s 3ms/step - loss: 0.0253 - accuracy: 0.9906\nEpoch 194/200\n3/3 [==============================] - 0s 4ms/step - loss: 0.0252 - accuracy: 0.9906\nEpoch 195/200\n3/3 [==============================] - 0s 3ms/step - loss: 0.0250 - accuracy: 0.9906\nEpoch 196/200\n3/3 [==============================] - 0s 2ms/step - loss: 0.0248 - accuracy: 0.9906\nEpoch 197/200\n3/3 [==============================] - 0s 3ms/step - loss: 0.0246 - accuracy: 0.9906\nEpoch 198/200\n3/3 [==============================] - 0s 3ms/step - loss: 0.0245 - accuracy: 0.9906\nEpoch 199/200\n3/3 [==============================] - 0s 3ms/step - loss: 0.0242 - accuracy: 0.9906\nEpoch 200/200\n3/3 [==============================] - 0s 2ms/step - loss: 0.0242 - accuracy: 0.9906\n"
        }
      ]
    },
    {
      "cell_type": "code",
      "metadata": {
        "id": "TyvrEoPoLsyP",
        "colab_type": "code",
        "colab": {}
      },
      "source": [
        "best_parameter"
      ],
      "execution_count": 14,
      "outputs": [
        {
          "output_type": "execute_result",
          "data": {
            "text/plain": "{'batch_size': 150, 'epochs': 200, 'optimizer': 'rmsprop'}"
          },
          "metadata": {},
          "execution_count": 14
        }
      ]
    },
    {
      "cell_type": "code",
      "metadata": {
        "id": "-HXM0tLgL0Ow",
        "colab_type": "code",
        "colab": {}
      },
      "source": [
        "best_accuracies"
      ],
      "execution_count": 17,
      "outputs": [
        {
          "output_type": "execute_result",
          "data": {
            "text/plain": "0.9859911406423034"
          },
          "metadata": {},
          "execution_count": 17
        }
      ]
    },
    {
      "cell_type": "code",
      "execution_count": 24,
      "metadata": {},
      "outputs": [],
      "source": [
        "means = grid_search.cv_results_['mean_test_score']\n",
        "stds = grid_search.cv_results_['std_test_score']\n",
        "params = grid_search.cv_results_['params']"
      ]
    },
    {
      "cell_type": "code",
      "execution_count": 26,
      "metadata": {
        "tags": []
      },
      "outputs": [
        {
          "output_type": "stream",
          "name": "stdout",
          "text": "0.981229 (0.022935) with: {'batch_size': 100, 'epochs': 100, 'optimizer': 'adam'}\n0.981229 (0.022935) with: {'batch_size': 100, 'epochs': 100, 'optimizer': 'rmsprop'}\n0.983666 (0.023389) with: {'batch_size': 100, 'epochs': 200, 'optimizer': 'adam'}\n0.976689 (0.027517) with: {'batch_size': 100, 'epochs': 200, 'optimizer': 'rmsprop'}\n0.976578 (0.023369) with: {'batch_size': 150, 'epochs': 100, 'optimizer': 'adam'}\n0.976467 (0.020927) with: {'batch_size': 150, 'epochs': 100, 'optimizer': 'rmsprop'}\n0.983610 (0.023517) with: {'batch_size': 150, 'epochs': 200, 'optimizer': 'adam'}\n0.985991 (0.021339) with: {'batch_size': 150, 'epochs': 200, 'optimizer': 'rmsprop'}\n"
        }
      ],
      "source": [
        "for mean, stdev, param in zip(means, stds, params):\n",
        "    print(\"%f (%f) with: %r\" % (mean, stdev, param))"
      ]
    }
  ]
}